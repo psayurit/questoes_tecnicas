{
 "cells": [
  {
   "cell_type": "code",
   "execution_count": 1,
   "id": "1c454e8c",
   "metadata": {},
   "outputs": [],
   "source": [
    "# importando pacotes\n",
    "import matplotlib\n",
    "import numpy as np\n",
    "import pandas as pd \n",
    "import matplotlib.pyplot as plt"
   ]
  },
  {
   "cell_type": "markdown",
   "id": "05a13e61",
   "metadata": {},
   "source": [
    "### Segunda Questão"
   ]
  },
  {
   "cell_type": "markdown",
   "id": "d51bcc73",
   "metadata": {},
   "source": [
    "### Objetivo \n",
    "\n",
    "Este projeto tem como objetivo calcular similaridade entre nomes dos produtos. Para isso, vamos calcular a similaridade entre cada linha do items_titles_test e todas as linhas do items_titles e guardar quais pares tiveram maior similaridade. Ao fim teremos um dataset com 10.000 linhas que será o equivalente ao items_titles_test e seu respectivo par com maior similaridade do items_titles. "
   ]
  },
  {
   "cell_type": "markdown",
   "id": "08dabd89",
   "metadata": {},
   "source": [
    "### Entendimento dos dados \n",
    "\n",
    "Os dados encontram-se em csv (items_titles.csv e items_titles_test.csv) "
   ]
  },
  {
   "cell_type": "code",
   "execution_count": 2,
   "id": "d338be20",
   "metadata": {},
   "outputs": [
    {
     "name": "stdout",
     "output_type": "stream",
     "text": [
      "Dimensão da base items_titles: (30000, 1)\n",
      "Quantidade de valores distintos: 30000\n"
     ]
    },
    {
     "data": {
      "text/html": [
       "<div>\n",
       "<style scoped>\n",
       "    .dataframe tbody tr th:only-of-type {\n",
       "        vertical-align: middle;\n",
       "    }\n",
       "\n",
       "    .dataframe tbody tr th {\n",
       "        vertical-align: top;\n",
       "    }\n",
       "\n",
       "    .dataframe thead th {\n",
       "        text-align: right;\n",
       "    }\n",
       "</style>\n",
       "<table border=\"1\" class=\"dataframe\">\n",
       "  <thead>\n",
       "    <tr style=\"text-align: right;\">\n",
       "      <th></th>\n",
       "      <th>ITE_ITEM_TITLE</th>\n",
       "    </tr>\n",
       "  </thead>\n",
       "  <tbody>\n",
       "    <tr>\n",
       "      <th>0</th>\n",
       "      <td>Tênis Ascension Posh Masculino - Preto E Verme...</td>\n",
       "    </tr>\n",
       "    <tr>\n",
       "      <th>1</th>\n",
       "      <td>Tenis Para Caminhada Super Levinho Spider Corr...</td>\n",
       "    </tr>\n",
       "    <tr>\n",
       "      <th>2</th>\n",
       "      <td>Tênis Feminino Le Parc Hocks Black/ice Origina...</td>\n",
       "    </tr>\n",
       "  </tbody>\n",
       "</table>\n",
       "</div>"
      ],
      "text/plain": [
       "                                      ITE_ITEM_TITLE\n",
       "0  Tênis Ascension Posh Masculino - Preto E Verme...\n",
       "1  Tenis Para Caminhada Super Levinho Spider Corr...\n",
       "2  Tênis Feminino Le Parc Hocks Black/ice Origina..."
      ]
     },
     "execution_count": 2,
     "metadata": {},
     "output_type": "execute_result"
    }
   ],
   "source": [
    "# puxando os dados items_titles\n",
    "df_items_titles = pd.read_csv(\"arquivos/items_titles.csv\", sep=\",\")\n",
    "\n",
    "print(\"Dimensão da base items_titles:\", df_items_titles.shape)\n",
    "print(\"Quantidade de valores distintos:\", df_items_titles.nunique()[0])\n",
    "df_items_titles.head(3)"
   ]
  },
  {
   "cell_type": "code",
   "execution_count": 3,
   "id": "38444d3b",
   "metadata": {},
   "outputs": [
    {
     "name": "stdout",
     "output_type": "stream",
     "text": [
      "Dimensão da base items_titles_test: (10000, 1)\n",
      "Quantidade de valores distintos: 10000\n"
     ]
    },
    {
     "data": {
      "text/html": [
       "<div>\n",
       "<style scoped>\n",
       "    .dataframe tbody tr th:only-of-type {\n",
       "        vertical-align: middle;\n",
       "    }\n",
       "\n",
       "    .dataframe tbody tr th {\n",
       "        vertical-align: top;\n",
       "    }\n",
       "\n",
       "    .dataframe thead th {\n",
       "        text-align: right;\n",
       "    }\n",
       "</style>\n",
       "<table border=\"1\" class=\"dataframe\">\n",
       "  <thead>\n",
       "    <tr style=\"text-align: right;\">\n",
       "      <th></th>\n",
       "      <th>ITE_ITEM_TITLE</th>\n",
       "    </tr>\n",
       "  </thead>\n",
       "  <tbody>\n",
       "    <tr>\n",
       "      <th>0</th>\n",
       "      <td>Tênis Olympikus Esporte Valente - Masculino Kids</td>\n",
       "    </tr>\n",
       "    <tr>\n",
       "      <th>1</th>\n",
       "      <td>Bicicleta Barra Forte Samy C/ 6 Marchas Cubo C...</td>\n",
       "    </tr>\n",
       "    <tr>\n",
       "      <th>2</th>\n",
       "      <td>Tênis Usthemp Slip-on Temático - Labrador 2</td>\n",
       "    </tr>\n",
       "  </tbody>\n",
       "</table>\n",
       "</div>"
      ],
      "text/plain": [
       "                                      ITE_ITEM_TITLE\n",
       "0   Tênis Olympikus Esporte Valente - Masculino Kids\n",
       "1  Bicicleta Barra Forte Samy C/ 6 Marchas Cubo C...\n",
       "2       Tênis Usthemp Slip-on Temático - Labrador 2"
      ]
     },
     "execution_count": 3,
     "metadata": {},
     "output_type": "execute_result"
    }
   ],
   "source": [
    "# puxando os dados items_titles_test\n",
    "df_items_titles_test = pd.read_csv(\"arquivos/items_titles_test.csv\", sep=\",\")\n",
    "\n",
    "print(\"Dimensão da base items_titles_test:\", df_items_titles_test.shape)\n",
    "print(\"Quantidade de valores distintos:\", df_items_titles_test.nunique()[0])\n",
    "df_items_titles_test.head(3)"
   ]
  },
  {
   "cell_type": "markdown",
   "id": "bdd6586f",
   "metadata": {},
   "source": [
    "Quantidade de valores idênticos entre as duas bases:"
   ]
  },
  {
   "cell_type": "code",
   "execution_count": 4,
   "id": "22c2252d",
   "metadata": {},
   "outputs": [
    {
     "name": "stdout",
     "output_type": "stream",
     "text": [
      "Quantidade de valores idênticos: 1493\n"
     ]
    }
   ],
   "source": [
    "column1 = set(df_items_titles['ITE_ITEM_TITLE'])\n",
    "column2 = set(df_items_titles_test['ITE_ITEM_TITLE'])\n",
    "\n",
    "print(\"Quantidade de valores idênticos:\", len(column1.intersection(column2)))"
   ]
  },
  {
   "cell_type": "markdown",
   "id": "0132ac60",
   "metadata": {},
   "source": [
    "### Similaridade"
   ]
  },
  {
   "cell_type": "markdown",
   "id": "806dae64",
   "metadata": {},
   "source": [
    "Para calcular a similaridade entre dois nomes podemos utilizar calculos como distância de Levenshtein ou distância de Jaccard, os calculos possuem algumas diferenças, dentre elas a eficiencia computacional, sendo Jaccard mais eficiente computacionalmente. \n",
    "\n",
    "Vamos analisar alguns exemplos práticos entre os dois cálculos e o tempo gasto computacionalmente (com uma amostra) para que seja possível escolher o que melhor se adapta ao desafio em questão. "
   ]
  },
  {
   "cell_type": "code",
   "execution_count": 5,
   "id": "dd444c5f",
   "metadata": {},
   "outputs": [],
   "source": [
    "# definindo função para cálculo de distância de Levenshtein \n",
    "def levenshtein_distance(s1, s2):\n",
    "    if len(s1) < len(s2):\n",
    "        return levenshtein_distance(s2, s1)\n",
    "\n",
    "    if len(s2) == 0:\n",
    "        return len(s1)\n",
    "\n",
    "    previous_row = range(len(s2) + 1)\n",
    "\n",
    "    for i, c1 in enumerate(s1):\n",
    "        current_row = [i + 1]\n",
    "\n",
    "        for j, c2 in enumerate(s2):\n",
    "            insertions = previous_row[j + 1] + 1\n",
    "            deletions = current_row[j] + 1\n",
    "            substitutions = previous_row[j] + (c1 != c2)\n",
    "            current_row.append(min(insertions, deletions, substitutions))\n",
    "\n",
    "        previous_row = current_row\n",
    "\n",
    "    return previous_row[-1]\n",
    "\n",
    "# definindo função para cálculo de similaridade de Levenshtein \n",
    "# A similaridade de Levenshtein é calculada como o inverso da distância de Levenshtein. \n",
    "# Esta distância é o número mínimo de operações necessárias para transformar uma string na outra.\n",
    "def levenshtein_similarity(s1, s2):\n",
    "    distance = levenshtein_distance(s1, s2)\n",
    "    similarity = 1 / (1 + distance)\n",
    "    return similarity\n",
    "\n",
    "# definindo função para cálculo de similaridade de Jaccard \n",
    "def jaccard_similarity(s1, s2):\n",
    "    # Converte os textos em conjuntos de palavras\n",
    "    set1 = set(s1.split())\n",
    "    set2 = set(s2.split())\n",
    "    \n",
    "    # Calcula a interseção e a união dos conjuntos\n",
    "    intersection = len(set1.intersection(set2))\n",
    "    union = len(set1.union(set2))\n",
    "    \n",
    "    # Calcula a similaridade de Jaccard\n",
    "    similarity = intersection / union if union != 0 else 0\n",
    "    \n",
    "    return similarity"
   ]
  },
  {
   "cell_type": "code",
   "execution_count": 6,
   "id": "71fc384e",
   "metadata": {},
   "outputs": [
    {
     "name": "stdout",
     "output_type": "stream",
     "text": [
      "1.0\n",
      "1.0\n"
     ]
    }
   ],
   "source": [
    "# apenas conferindo se faz sentido \n",
    "print(levenshtein_similarity('a','a'))\n",
    "print(jaccard_similarity('a','a'))"
   ]
  },
  {
   "cell_type": "code",
   "execution_count": 7,
   "id": "ce8b5e4b",
   "metadata": {},
   "outputs": [
    {
     "name": "stdout",
     "output_type": "stream",
     "text": [
      "0.5\n",
      "0.0\n"
     ]
    }
   ],
   "source": [
    "# apenas conferindo se faz sentido (seria interessante calcular utilizando .lower() nas bases)\n",
    "print(levenshtein_similarity('a','A'))\n",
    "print(jaccard_similarity('a','A'))"
   ]
  },
  {
   "cell_type": "code",
   "execution_count": 8,
   "id": "23e0d0ba",
   "metadata": {},
   "outputs": [
    {
     "name": "stdout",
     "output_type": "stream",
     "text": [
      "0.5\n",
      "0.0\n"
     ]
    }
   ],
   "source": [
    "# apenas conferindo se faz sentido\n",
    "print(levenshtein_similarity('a','a.'))\n",
    "print(jaccard_similarity('a','a.'))"
   ]
  },
  {
   "cell_type": "markdown",
   "id": "2ed7217e",
   "metadata": {},
   "source": [
    "No caso de 'a' e 'a.', a distância de Levenshtein é 0.5 porque você precisa adicionar ou remover um caractere ('.') para transformar uma string na outra. Portanto, a similaridade de Levenshtein é 1 - 0.5 = 0.5\n",
    "\n",
    "A similaridade de Jaccard é então calculada como a razão entre o tamanho da interseção dos conjuntos e o tamanho da união dos conjuntos. Como a interseção é vazia e a união contém apenas um caractere ou palavras (a), a similaridade de Jaccard é 0."
   ]
  },
  {
   "cell_type": "code",
   "execution_count": null,
   "id": "ae55d5f2",
   "metadata": {},
   "outputs": [],
   "source": []
  }
 ],
 "metadata": {
  "kernelspec": {
   "display_name": "Python 3 (ipykernel)",
   "language": "python",
   "name": "python3"
  },
  "language_info": {
   "codemirror_mode": {
    "name": "ipython",
    "version": 3
   },
   "file_extension": ".py",
   "mimetype": "text/x-python",
   "name": "python",
   "nbconvert_exporter": "python",
   "pygments_lexer": "ipython3",
   "version": "3.9.7"
  }
 },
 "nbformat": 4,
 "nbformat_minor": 5
}
