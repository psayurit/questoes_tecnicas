{
 "cells": [
  {
   "cell_type": "code",
   "execution_count": 1,
   "id": "1c454e8c",
   "metadata": {},
   "outputs": [],
   "source": [
    "# importando pacotes\n",
    "import matplotlib\n",
    "import numpy as np\n",
    "import pandas as pd \n",
    "import matplotlib.pyplot as plt"
   ]
  },
  {
   "cell_type": "markdown",
   "id": "05a13e61",
   "metadata": {},
   "source": [
    "### Segunda Questão"
   ]
  },
  {
   "cell_type": "markdown",
   "id": "d51bcc73",
   "metadata": {},
   "source": [
    "### Objetivo \n",
    "\n",
    "Este projeto tem como objetivo calcular similaridade entre nomes dos produtos. Para isso, vamos calcular a similaridade entre cada linha do items_titles_test e todas as linhas do items_titles e guardar quais pares tiveram maior similaridade. Ao fim teremos um dataset com 10.000 linhas que será o equivalente ao items_titles_test, seu respectivo par com maior similaridade do items_titles e o valor resultante. "
   ]
  },
  {
   "cell_type": "markdown",
   "id": "08dabd89",
   "metadata": {},
   "source": [
    "### Entendimento dos dados \n",
    "\n",
    "Os dados encontram-se em csv (items_titles.csv e items_titles_test.csv) "
   ]
  },
  {
   "cell_type": "code",
   "execution_count": 2,
   "id": "d338be20",
   "metadata": {},
   "outputs": [
    {
     "name": "stdout",
     "output_type": "stream",
     "text": [
      "Dimensão da base items_titles: (30000, 1)\n",
      "Quantidade de valores distintos: 30000\n"
     ]
    },
    {
     "data": {
      "text/html": [
       "<div>\n",
       "<style scoped>\n",
       "    .dataframe tbody tr th:only-of-type {\n",
       "        vertical-align: middle;\n",
       "    }\n",
       "\n",
       "    .dataframe tbody tr th {\n",
       "        vertical-align: top;\n",
       "    }\n",
       "\n",
       "    .dataframe thead th {\n",
       "        text-align: right;\n",
       "    }\n",
       "</style>\n",
       "<table border=\"1\" class=\"dataframe\">\n",
       "  <thead>\n",
       "    <tr style=\"text-align: right;\">\n",
       "      <th></th>\n",
       "      <th>ITE_ITEM_TITLE</th>\n",
       "    </tr>\n",
       "  </thead>\n",
       "  <tbody>\n",
       "    <tr>\n",
       "      <th>0</th>\n",
       "      <td>Tênis Ascension Posh Masculino - Preto E Verme...</td>\n",
       "    </tr>\n",
       "    <tr>\n",
       "      <th>1</th>\n",
       "      <td>Tenis Para Caminhada Super Levinho Spider Corr...</td>\n",
       "    </tr>\n",
       "    <tr>\n",
       "      <th>2</th>\n",
       "      <td>Tênis Feminino Le Parc Hocks Black/ice Origina...</td>\n",
       "    </tr>\n",
       "  </tbody>\n",
       "</table>\n",
       "</div>"
      ],
      "text/plain": [
       "                                      ITE_ITEM_TITLE\n",
       "0  Tênis Ascension Posh Masculino - Preto E Verme...\n",
       "1  Tenis Para Caminhada Super Levinho Spider Corr...\n",
       "2  Tênis Feminino Le Parc Hocks Black/ice Origina..."
      ]
     },
     "execution_count": 2,
     "metadata": {},
     "output_type": "execute_result"
    }
   ],
   "source": [
    "# puxando os dados items_titles\n",
    "df_items_titles = pd.read_csv(\"arquivos/items_titles.csv\", sep=\",\")\n",
    "\n",
    "print(\"Dimensão da base items_titles:\", df_items_titles.shape)\n",
    "print(\"Quantidade de valores distintos:\", df_items_titles.nunique()[0])\n",
    "df_items_titles.head(3)"
   ]
  },
  {
   "cell_type": "code",
   "execution_count": 3,
   "id": "38444d3b",
   "metadata": {},
   "outputs": [
    {
     "name": "stdout",
     "output_type": "stream",
     "text": [
      "Dimensão da base items_titles_test: (10000, 1)\n",
      "Quantidade de valores distintos: 10000\n"
     ]
    },
    {
     "data": {
      "text/html": [
       "<div>\n",
       "<style scoped>\n",
       "    .dataframe tbody tr th:only-of-type {\n",
       "        vertical-align: middle;\n",
       "    }\n",
       "\n",
       "    .dataframe tbody tr th {\n",
       "        vertical-align: top;\n",
       "    }\n",
       "\n",
       "    .dataframe thead th {\n",
       "        text-align: right;\n",
       "    }\n",
       "</style>\n",
       "<table border=\"1\" class=\"dataframe\">\n",
       "  <thead>\n",
       "    <tr style=\"text-align: right;\">\n",
       "      <th></th>\n",
       "      <th>ITE_ITEM_TITLE</th>\n",
       "    </tr>\n",
       "  </thead>\n",
       "  <tbody>\n",
       "    <tr>\n",
       "      <th>0</th>\n",
       "      <td>Tênis Olympikus Esporte Valente - Masculino Kids</td>\n",
       "    </tr>\n",
       "    <tr>\n",
       "      <th>1</th>\n",
       "      <td>Bicicleta Barra Forte Samy C/ 6 Marchas Cubo C...</td>\n",
       "    </tr>\n",
       "    <tr>\n",
       "      <th>2</th>\n",
       "      <td>Tênis Usthemp Slip-on Temático - Labrador 2</td>\n",
       "    </tr>\n",
       "  </tbody>\n",
       "</table>\n",
       "</div>"
      ],
      "text/plain": [
       "                                      ITE_ITEM_TITLE\n",
       "0   Tênis Olympikus Esporte Valente - Masculino Kids\n",
       "1  Bicicleta Barra Forte Samy C/ 6 Marchas Cubo C...\n",
       "2       Tênis Usthemp Slip-on Temático - Labrador 2"
      ]
     },
     "execution_count": 3,
     "metadata": {},
     "output_type": "execute_result"
    }
   ],
   "source": [
    "# puxando os dados items_titles_test\n",
    "df_items_titles_test = pd.read_csv(\"arquivos/items_titles_test.csv\", sep=\",\")\n",
    "\n",
    "print(\"Dimensão da base items_titles_test:\", df_items_titles_test.shape)\n",
    "print(\"Quantidade de valores distintos:\", df_items_titles_test.nunique()[0])\n",
    "df_items_titles_test.head(3)"
   ]
  },
  {
   "cell_type": "markdown",
   "id": "bdd6586f",
   "metadata": {},
   "source": [
    "Quantidade de valores idênticos entre as duas bases:"
   ]
  },
  {
   "cell_type": "code",
   "execution_count": 4,
   "id": "22c2252d",
   "metadata": {},
   "outputs": [
    {
     "name": "stdout",
     "output_type": "stream",
     "text": [
      "Quantidade de valores idênticos: 1493\n"
     ]
    }
   ],
   "source": [
    "column1 = set(df_items_titles['ITE_ITEM_TITLE'])\n",
    "column2 = set(df_items_titles_test['ITE_ITEM_TITLE'])\n",
    "\n",
    "print(\"Quantidade de valores idênticos:\", len(column1.intersection(column2)))"
   ]
  },
  {
   "cell_type": "markdown",
   "id": "0132ac60",
   "metadata": {},
   "source": [
    "### Similaridade"
   ]
  },
  {
   "cell_type": "markdown",
   "id": "806dae64",
   "metadata": {},
   "source": [
    "Para calcular a similaridade entre dois nomes podemos utilizar calculos como distância de Levenshtein ou distância de Jaccard, os calculos possuem algumas diferenças, dentre elas a eficiencia computacional, sendo Jaccard mais eficiente computacionalmente. \n",
    "\n",
    "Vamos analisar alguns exemplos práticos entre os dois cálculos e o tempo gasto computacionalmente (com uma amostra) para que seja possível escolher o que melhor se adapta ao desafio em questão. "
   ]
  },
  {
   "cell_type": "code",
   "execution_count": 5,
   "id": "dd444c5f",
   "metadata": {},
   "outputs": [],
   "source": [
    "# definindo função para cálculo de distância de Levenshtein \n",
    "def levenshtein_distance(s1, s2):\n",
    "    if len(s1) < len(s2):\n",
    "        return levenshtein_distance(s2, s1)\n",
    "\n",
    "    if len(s2) == 0:\n",
    "        return len(s1)\n",
    "\n",
    "    previous_row = range(len(s2) + 1)\n",
    "\n",
    "    for i, c1 in enumerate(s1):\n",
    "        current_row = [i + 1]\n",
    "\n",
    "        for j, c2 in enumerate(s2):\n",
    "            insertions = previous_row[j + 1] + 1\n",
    "            deletions = current_row[j] + 1\n",
    "            substitutions = previous_row[j] + (c1 != c2)\n",
    "            current_row.append(min(insertions, deletions, substitutions))\n",
    "\n",
    "        previous_row = current_row\n",
    "\n",
    "    return previous_row[-1]\n",
    "\n",
    "# definindo função para cálculo de similaridade de Levenshtein \n",
    "# A similaridade de Levenshtein é calculada como o inverso da distância de Levenshtein. \n",
    "# Esta distância é o número mínimo de operações necessárias para transformar uma string na outra.\n",
    "def levenshtein_similarity(s1, s2):\n",
    "    distance = levenshtein_distance(s1, s2)\n",
    "    similarity = 1 / (1 + distance)\n",
    "    return similarity\n",
    "\n",
    "# definindo função para cálculo de similaridade de Jaccard \n",
    "def jaccard_similarity(s1, s2):\n",
    "    # Converte os textos em conjuntos de palavras\n",
    "    set1 = set(s1.split())\n",
    "    set2 = set(s2.split())\n",
    "    \n",
    "    # Calcula a interseção e a união dos conjuntos\n",
    "    intersection = len(set1.intersection(set2))\n",
    "    union = len(set1.union(set2))\n",
    "    \n",
    "    # Calcula a similaridade de Jaccard\n",
    "    similarity = intersection / union if union != 0 else 0\n",
    "    \n",
    "    return similarity"
   ]
  },
  {
   "cell_type": "code",
   "execution_count": 6,
   "id": "71fc384e",
   "metadata": {},
   "outputs": [
    {
     "name": "stdout",
     "output_type": "stream",
     "text": [
      "1.0\n",
      "1.0\n"
     ]
    }
   ],
   "source": [
    "# apenas conferindo se faz sentido \n",
    "print(levenshtein_similarity('a','a'))\n",
    "print(jaccard_similarity('a','a'))"
   ]
  },
  {
   "cell_type": "code",
   "execution_count": 7,
   "id": "ce8b5e4b",
   "metadata": {},
   "outputs": [
    {
     "name": "stdout",
     "output_type": "stream",
     "text": [
      "0.5\n",
      "0.0\n"
     ]
    }
   ],
   "source": [
    "# apenas conferindo se faz sentido (seria interessante calcular utilizando .lower() nas bases)\n",
    "print(levenshtein_similarity('a','A'))\n",
    "print(jaccard_similarity('a','A'))"
   ]
  },
  {
   "cell_type": "code",
   "execution_count": 8,
   "id": "23e0d0ba",
   "metadata": {},
   "outputs": [
    {
     "name": "stdout",
     "output_type": "stream",
     "text": [
      "0.5\n",
      "0.0\n"
     ]
    }
   ],
   "source": [
    "# apenas conferindo se faz sentido\n",
    "print(levenshtein_similarity('a','a.'))\n",
    "print(jaccard_similarity('a','a.'))"
   ]
  },
  {
   "cell_type": "markdown",
   "id": "2ed7217e",
   "metadata": {},
   "source": [
    "No caso de 'a' e 'a.', a distância de Levenshtein é 0.5 porque você precisa adicionar ou remover um caractere ('.') para transformar uma string na outra. Portanto, a similaridade de Levenshtein é 1 - (1/2) = 0.5\n",
    "\n",
    "A similaridade de Jaccard é então calculada como a razão entre o tamanho da interseção dos conjuntos e o tamanho da união dos conjuntos. Como a interseção é vazia (a <> a.), a similaridade de Jaccard é 0."
   ]
  },
  {
   "cell_type": "markdown",
   "id": "5c7d756c",
   "metadata": {},
   "source": [
    "### Calculando com as bases "
   ]
  },
  {
   "cell_type": "code",
   "execution_count": 9,
   "id": "b52a08b0",
   "metadata": {},
   "outputs": [
    {
     "name": "stdout",
     "output_type": "stream",
     "text": [
      "Quantidade de linhas na base df_items_titles_test: 10000\n",
      "Quantidade de linhas na base df_items_titles: 30000\n"
     ]
    }
   ],
   "source": [
    "print('Quantidade de linhas na base df_items_titles_test:', df_items_titles_test.shape[0])\n",
    "print('Quantidade de linhas na base df_items_titles:', df_items_titles.shape[0])"
   ]
  },
  {
   "cell_type": "markdown",
   "id": "02b45bc9",
   "metadata": {},
   "source": [
    "Vamos contabilizar o tempo que demora para gerar apenas uma parte do loop com similaridade de Levenshtein."
   ]
  },
  {
   "cell_type": "code",
   "execution_count": 10,
   "id": "5648782e",
   "metadata": {},
   "outputs": [
    {
     "name": "stdout",
     "output_type": "stream",
     "text": [
      "(1, 3)\n",
      "Wall time: 1min 32s\n"
     ]
    },
    {
     "data": {
      "text/html": [
       "<div>\n",
       "<style scoped>\n",
       "    .dataframe tbody tr th:only-of-type {\n",
       "        vertical-align: middle;\n",
       "    }\n",
       "\n",
       "    .dataframe tbody tr th {\n",
       "        vertical-align: top;\n",
       "    }\n",
       "\n",
       "    .dataframe thead th {\n",
       "        text-align: right;\n",
       "    }\n",
       "</style>\n",
       "<table border=\"1\" class=\"dataframe\">\n",
       "  <thead>\n",
       "    <tr style=\"text-align: right;\">\n",
       "      <th></th>\n",
       "      <th>df_items_titles_test</th>\n",
       "      <th>df_items_titles</th>\n",
       "      <th>similaridade</th>\n",
       "    </tr>\n",
       "  </thead>\n",
       "  <tbody>\n",
       "    <tr>\n",
       "      <th>0</th>\n",
       "      <td>Tênis Olympikus Esporte Valente - Masculino Kids</td>\n",
       "      <td>Tênis Olympikus Vortex / 776 - Masculino</td>\n",
       "      <td>0.0625</td>\n",
       "    </tr>\n",
       "  </tbody>\n",
       "</table>\n",
       "</div>"
      ],
      "text/plain": [
       "                               df_items_titles_test  \\\n",
       "0  Tênis Olympikus Esporte Valente - Masculino Kids   \n",
       "\n",
       "                             df_items_titles  similaridade  \n",
       "0  Tênis Olympikus Vortex / 776 - Masculino         0.0625  "
      ]
     },
     "execution_count": 10,
     "metadata": {},
     "output_type": "execute_result"
    }
   ],
   "source": [
    "%%time\n",
    "\n",
    "base_maiores_similaridades = pd.DataFrame(columns=['df_items_titles_test', 'df_items_titles', 'similaridade'])\n",
    "\n",
    "for i in np.arange(0,1, 1):\n",
    "    base_loop_similaridades = pd.DataFrame(columns=['df_items_titles_test', 'df_items_titles', 'similaridade'])\n",
    "    for j in np.arange(0,29999, 1):\n",
    "        valor_similaridade = levenshtein_similarity(\n",
    "            df_items_titles_test.ITE_ITEM_TITLE[i]\n",
    "            ,df_items_titles.ITE_ITEM_TITLE[j]\n",
    "        ) \n",
    "        base_loop_similaridades = base_loop_similaridades.append({\n",
    "            'df_items_titles_test':df_items_titles_test.ITE_ITEM_TITLE[i]\n",
    "            ,'df_items_titles':df_items_titles.ITE_ITEM_TITLE[j]\n",
    "            ,'similaridade':valor_similaridade}\n",
    "            , ignore_index=True\n",
    "        )\n",
    "    maximo_similaridade = max(base_loop_similaridades.similaridade)\n",
    "    linha_maximo_similaridade = base_loop_similaridades[base_loop_similaridades.similaridade == maximo_similaridade]\n",
    "    base_maiores_similaridades = base_maiores_similaridades.append(linha_maximo_similaridade, ignore_index=True)\n",
    "\n",
    "print(base_maiores_similaridades.shape)\n",
    "base_maiores_similaridades.head()"
   ]
  },
  {
   "cell_type": "markdown",
   "id": "75a4daae",
   "metadata": {},
   "source": [
    "Vamos contabilizar o tempo que demora para gerar apenas uma parte do loop com similaridade de Jaccard."
   ]
  },
  {
   "cell_type": "code",
   "execution_count": 11,
   "id": "e6e91790",
   "metadata": {
    "scrolled": true
   },
   "outputs": [
    {
     "name": "stdout",
     "output_type": "stream",
     "text": [
      "(1, 3)\n",
      "Wall time: 37.6 s\n"
     ]
    },
    {
     "data": {
      "text/html": [
       "<div>\n",
       "<style scoped>\n",
       "    .dataframe tbody tr th:only-of-type {\n",
       "        vertical-align: middle;\n",
       "    }\n",
       "\n",
       "    .dataframe tbody tr th {\n",
       "        vertical-align: top;\n",
       "    }\n",
       "\n",
       "    .dataframe thead th {\n",
       "        text-align: right;\n",
       "    }\n",
       "</style>\n",
       "<table border=\"1\" class=\"dataframe\">\n",
       "  <thead>\n",
       "    <tr style=\"text-align: right;\">\n",
       "      <th></th>\n",
       "      <th>df_items_titles_test</th>\n",
       "      <th>df_items_titles</th>\n",
       "      <th>similaridade</th>\n",
       "    </tr>\n",
       "  </thead>\n",
       "  <tbody>\n",
       "    <tr>\n",
       "      <th>0</th>\n",
       "      <td>Tênis Olympikus Esporte Valente - Masculino Kids</td>\n",
       "      <td>Tênis Infantil Olympikus Valente Kids Masculino</td>\n",
       "      <td>0.625</td>\n",
       "    </tr>\n",
       "  </tbody>\n",
       "</table>\n",
       "</div>"
      ],
      "text/plain": [
       "                               df_items_titles_test  \\\n",
       "0  Tênis Olympikus Esporte Valente - Masculino Kids   \n",
       "\n",
       "                                    df_items_titles  similaridade  \n",
       "0  Tênis Infantil Olympikus Valente Kids Masculino          0.625  "
      ]
     },
     "execution_count": 11,
     "metadata": {},
     "output_type": "execute_result"
    }
   ],
   "source": [
    "%%time\n",
    "\n",
    "base_maiores_similaridades = pd.DataFrame(columns=['df_items_titles_test', 'df_items_titles', 'similaridade'])\n",
    "\n",
    "for i in np.arange(0,1, 1):\n",
    "    base_loop_similaridades = pd.DataFrame(columns=['df_items_titles_test', 'df_items_titles', 'similaridade'])\n",
    "    for j in np.arange(0,29999, 1):\n",
    "        valor_similaridade = jaccard_similarity(\n",
    "            df_items_titles_test.ITE_ITEM_TITLE[i]\n",
    "            ,df_items_titles.ITE_ITEM_TITLE[j]\n",
    "        ) \n",
    "        base_loop_similaridades = base_loop_similaridades.append({\n",
    "            'df_items_titles_test':df_items_titles_test.ITE_ITEM_TITLE[i]\n",
    "            ,'df_items_titles':df_items_titles.ITE_ITEM_TITLE[j]\n",
    "            ,'similaridade':valor_similaridade}\n",
    "            , ignore_index=True\n",
    "        )\n",
    "    maximo_similaridade = max(base_loop_similaridades.similaridade)\n",
    "    linha_maximo_similaridade = base_loop_similaridades[base_loop_similaridades.similaridade == maximo_similaridade]\n",
    "    base_maiores_similaridades = base_maiores_similaridades.append(linha_maximo_similaridade, ignore_index=True)\n",
    "\n",
    "print(base_maiores_similaridades.shape)\n",
    "base_maiores_similaridades.head()"
   ]
  },
  {
   "cell_type": "markdown",
   "id": "b3985e77",
   "metadata": {},
   "source": [
    "___"
   ]
  },
  {
   "cell_type": "markdown",
   "id": "2e55bf8e",
   "metadata": {},
   "source": [
    "Vamos seguir com Jaccard e salvar apenas alguns resultados em csv. "
   ]
  },
  {
   "cell_type": "code",
   "execution_count": 12,
   "id": "46b60d79",
   "metadata": {},
   "outputs": [
    {
     "name": "stdout",
     "output_type": "stream",
     "text": [
      "(34, 3)\n",
      "Wall time: 42min 28s\n"
     ]
    },
    {
     "data": {
      "text/html": [
       "<div>\n",
       "<style scoped>\n",
       "    .dataframe tbody tr th:only-of-type {\n",
       "        vertical-align: middle;\n",
       "    }\n",
       "\n",
       "    .dataframe tbody tr th {\n",
       "        vertical-align: top;\n",
       "    }\n",
       "\n",
       "    .dataframe thead th {\n",
       "        text-align: right;\n",
       "    }\n",
       "</style>\n",
       "<table border=\"1\" class=\"dataframe\">\n",
       "  <thead>\n",
       "    <tr style=\"text-align: right;\">\n",
       "      <th></th>\n",
       "      <th>df_items_titles_test</th>\n",
       "      <th>df_items_titles</th>\n",
       "      <th>similaridade</th>\n",
       "    </tr>\n",
       "  </thead>\n",
       "  <tbody>\n",
       "    <tr>\n",
       "      <th>0</th>\n",
       "      <td>Tênis Olympikus Esporte Valente - Masculino Kids</td>\n",
       "      <td>Tênis Infantil Olympikus Valente Kids Masculino</td>\n",
       "      <td>0.625000</td>\n",
       "    </tr>\n",
       "    <tr>\n",
       "      <th>1</th>\n",
       "      <td>Bicicleta Barra Forte Samy C/ 6 Marchas Cubo C...</td>\n",
       "      <td>Bicicleta Barra Forte Aro 24</td>\n",
       "      <td>0.272727</td>\n",
       "    </tr>\n",
       "    <tr>\n",
       "      <th>2</th>\n",
       "      <td>Tênis Usthemp Slip-on Temático - Labrador 2</td>\n",
       "      <td>Tênis Usthemp Slip-on Temático - Lunna Labrad...</td>\n",
       "      <td>0.875000</td>\n",
       "    </tr>\n",
       "    <tr>\n",
       "      <th>3</th>\n",
       "      <td>Tênis Casual Feminino Moleca Tecido Tie Dye</td>\n",
       "      <td>Tênis Tie Dye Feminino Casual</td>\n",
       "      <td>0.714286</td>\n",
       "    </tr>\n",
       "    <tr>\n",
       "      <th>4</th>\n",
       "      <td>Tênis Star Baby Sapatinho Conforto + Brinde</td>\n",
       "      <td>Tênis Masculino + Brinde</td>\n",
       "      <td>0.375000</td>\n",
       "    </tr>\n",
       "  </tbody>\n",
       "</table>\n",
       "</div>"
      ],
      "text/plain": [
       "                                df_items_titles_test  \\\n",
       "0   Tênis Olympikus Esporte Valente - Masculino Kids   \n",
       "1  Bicicleta Barra Forte Samy C/ 6 Marchas Cubo C...   \n",
       "2       Tênis Usthemp Slip-on Temático - Labrador 2   \n",
       "3        Tênis Casual Feminino Moleca Tecido Tie Dye   \n",
       "4        Tênis Star Baby Sapatinho Conforto + Brinde   \n",
       "\n",
       "                                     df_items_titles  similaridade  \n",
       "0   Tênis Infantil Olympikus Valente Kids Masculino       0.625000  \n",
       "1                      Bicicleta Barra Forte Aro 24       0.272727  \n",
       "2  Tênis Usthemp Slip-on Temático - Lunna Labrad...      0.875000  \n",
       "3                     Tênis Tie Dye Feminino Casual       0.714286  \n",
       "4                           Tênis Masculino + Brinde      0.375000  "
      ]
     },
     "execution_count": 12,
     "metadata": {},
     "output_type": "execute_result"
    }
   ],
   "source": [
    "%%time\n",
    "\n",
    "base_maiores_similaridades = pd.DataFrame(columns=['df_items_titles_test', 'df_items_titles', 'similaridade'])\n",
    "\n",
    "for i in np.arange(0,24, 1):\n",
    "    base_loop_similaridades = pd.DataFrame(columns=['df_items_titles_test', 'df_items_titles', 'similaridade'])\n",
    "    for j in np.arange(0,29999, 1):\n",
    "        valor_similaridade = jaccard_similarity(\n",
    "            df_items_titles_test.ITE_ITEM_TITLE[i]\n",
    "            ,df_items_titles.ITE_ITEM_TITLE[j]\n",
    "        ) \n",
    "        base_loop_similaridades = base_loop_similaridades.append({\n",
    "            'df_items_titles_test':df_items_titles_test.ITE_ITEM_TITLE[i]\n",
    "            ,'df_items_titles':df_items_titles.ITE_ITEM_TITLE[j]\n",
    "            ,'similaridade':valor_similaridade}\n",
    "            , ignore_index=True\n",
    "        )\n",
    "    maximo_similaridade = max(base_loop_similaridades.similaridade)\n",
    "    linha_maximo_similaridade = base_loop_similaridades[base_loop_similaridades.similaridade == maximo_similaridade]\n",
    "    base_maiores_similaridades = base_maiores_similaridades.append(linha_maximo_similaridade, ignore_index=True)\n",
    "\n",
    "print(base_maiores_similaridades.shape)\n",
    "base_maiores_similaridades.head()"
   ]
  },
  {
   "cell_type": "code",
   "execution_count": 13,
   "id": "9471f299",
   "metadata": {},
   "outputs": [],
   "source": [
    "base_maiores_similaridades.to_csv('base_maiores_similaridades.csv', sep=';', index=False)"
   ]
  }
 ],
 "metadata": {
  "kernelspec": {
   "display_name": "Python 3 (ipykernel)",
   "language": "python",
   "name": "python3"
  },
  "language_info": {
   "codemirror_mode": {
    "name": "ipython",
    "version": 3
   },
   "file_extension": ".py",
   "mimetype": "text/x-python",
   "name": "python",
   "nbconvert_exporter": "python",
   "pygments_lexer": "ipython3",
   "version": "3.9.7"
  }
 },
 "nbformat": 4,
 "nbformat_minor": 5
}
