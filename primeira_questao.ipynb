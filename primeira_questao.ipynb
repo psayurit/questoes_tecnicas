{
 "cells": [
  {
   "cell_type": "code",
   "execution_count": 1,
   "id": "af4d1cd5",
   "metadata": {},
   "outputs": [],
   "source": [
    "# importando pacotes\n",
    "import matplotlib\n",
    "import numpy as np\n",
    "import pandas as pd \n",
    "import matplotlib.pyplot as plt"
   ]
  },
  {
   "cell_type": "markdown",
   "id": "6abce1be",
   "metadata": {},
   "source": [
    "### Primeira Questão "
   ]
  },
  {
   "cell_type": "markdown",
   "id": "a341ca4d",
   "metadata": {},
   "source": [
    "### Objetivo \n",
    "\n",
    "Este projeto tem como objetivo realizar uma análise exploratória acerca de ofertas relâmpago."
   ]
  },
  {
   "cell_type": "markdown",
   "id": "cf968aee",
   "metadata": {},
   "source": [
    "### Entendimento dos dados \n",
    "\n",
    "Os dados encontram-se em csv (ofertas_relampago.csv) e contém dados referentes a ofertas relâmpago para um período e país específico. Conforme o entendimento de negócio (descrito no arquivo Technical Challenge v3) sabemos que as ofertas costumam durar algumas horas e possuem uma quantidade limitada de produtos."
   ]
  },
  {
   "cell_type": "code",
   "execution_count": 2,
   "id": "7b24cb1b",
   "metadata": {},
   "outputs": [
    {
     "name": "stdout",
     "output_type": "stream",
     "text": [
      "Dimensão da base: (48746, 13)\n"
     ]
    },
    {
     "data": {
      "text/html": [
       "<div>\n",
       "<style scoped>\n",
       "    .dataframe tbody tr th:only-of-type {\n",
       "        vertical-align: middle;\n",
       "    }\n",
       "\n",
       "    .dataframe tbody tr th {\n",
       "        vertical-align: top;\n",
       "    }\n",
       "\n",
       "    .dataframe thead th {\n",
       "        text-align: right;\n",
       "    }\n",
       "</style>\n",
       "<table border=\"1\" class=\"dataframe\">\n",
       "  <thead>\n",
       "    <tr style=\"text-align: right;\">\n",
       "      <th></th>\n",
       "      <th>OFFER_START_DATE</th>\n",
       "      <th>OFFER_START_DTTM</th>\n",
       "      <th>OFFER_FINISH_DTTM</th>\n",
       "      <th>OFFER_TYPE</th>\n",
       "      <th>INVOLVED_STOCK</th>\n",
       "      <th>REMAINING_STOCK_AFTER_END</th>\n",
       "      <th>SOLD_AMOUNT</th>\n",
       "      <th>SOLD_QUANTITY</th>\n",
       "      <th>ORIGIN</th>\n",
       "      <th>SHIPPING_PAYMENT_TYPE</th>\n",
       "      <th>DOM_DOMAIN_AGG1</th>\n",
       "      <th>VERTICAL</th>\n",
       "      <th>DOMAIN_ID</th>\n",
       "    </tr>\n",
       "  </thead>\n",
       "  <tbody>\n",
       "    <tr>\n",
       "      <th>0</th>\n",
       "      <td>2021-06-22</td>\n",
       "      <td>2021-06-22 16:00:00+00:00</td>\n",
       "      <td>2021-06-22 23:02:43+00:00</td>\n",
       "      <td>lightning_deal</td>\n",
       "      <td>4</td>\n",
       "      <td>-2</td>\n",
       "      <td>4.72</td>\n",
       "      <td>6.0</td>\n",
       "      <td>A</td>\n",
       "      <td>none</td>\n",
       "      <td>PETS FOOD</td>\n",
       "      <td>CPG</td>\n",
       "      <td>MLM-BIRD_FOODS</td>\n",
       "    </tr>\n",
       "    <tr>\n",
       "      <th>1</th>\n",
       "      <td>2021-06-22</td>\n",
       "      <td>2021-06-22 13:00:00+00:00</td>\n",
       "      <td>2021-06-22 19:00:02+00:00</td>\n",
       "      <td>lightning_deal</td>\n",
       "      <td>5</td>\n",
       "      <td>5</td>\n",
       "      <td>NaN</td>\n",
       "      <td>NaN</td>\n",
       "      <td>NaN</td>\n",
       "      <td>free_shipping</td>\n",
       "      <td>PET PRODUCTS</td>\n",
       "      <td>OTHERS</td>\n",
       "      <td>MLM-ANIMAL_AND_PET_PRODUCTS</td>\n",
       "    </tr>\n",
       "    <tr>\n",
       "      <th>2</th>\n",
       "      <td>2021-06-22</td>\n",
       "      <td>2021-06-22 07:00:00+00:00</td>\n",
       "      <td>2021-06-22 13:00:01+00:00</td>\n",
       "      <td>lightning_deal</td>\n",
       "      <td>15</td>\n",
       "      <td>12</td>\n",
       "      <td>10.73</td>\n",
       "      <td>3.0</td>\n",
       "      <td>NaN</td>\n",
       "      <td>none</td>\n",
       "      <td>COMPUTERS</td>\n",
       "      <td>CE</td>\n",
       "      <td>MLM-SPEAKERS</td>\n",
       "    </tr>\n",
       "  </tbody>\n",
       "</table>\n",
       "</div>"
      ],
      "text/plain": [
       "  OFFER_START_DATE           OFFER_START_DTTM          OFFER_FINISH_DTTM  \\\n",
       "0       2021-06-22  2021-06-22 16:00:00+00:00  2021-06-22 23:02:43+00:00   \n",
       "1       2021-06-22  2021-06-22 13:00:00+00:00  2021-06-22 19:00:02+00:00   \n",
       "2       2021-06-22  2021-06-22 07:00:00+00:00  2021-06-22 13:00:01+00:00   \n",
       "\n",
       "       OFFER_TYPE  INVOLVED_STOCK  REMAINING_STOCK_AFTER_END  SOLD_AMOUNT  \\\n",
       "0  lightning_deal               4                         -2         4.72   \n",
       "1  lightning_deal               5                          5          NaN   \n",
       "2  lightning_deal              15                         12        10.73   \n",
       "\n",
       "   SOLD_QUANTITY ORIGIN SHIPPING_PAYMENT_TYPE DOM_DOMAIN_AGG1 VERTICAL  \\\n",
       "0            6.0      A                  none       PETS FOOD      CPG   \n",
       "1            NaN    NaN         free_shipping    PET PRODUCTS   OTHERS   \n",
       "2            3.0    NaN                  none       COMPUTERS       CE   \n",
       "\n",
       "                     DOMAIN_ID  \n",
       "0               MLM-BIRD_FOODS  \n",
       "1  MLM-ANIMAL_AND_PET_PRODUCTS  \n",
       "2                 MLM-SPEAKERS  "
      ]
     },
     "execution_count": 2,
     "metadata": {},
     "output_type": "execute_result"
    }
   ],
   "source": [
    "# puxando os dados \n",
    "base_completa = pd.read_csv(\"arquivos/ofertas_relampago.csv\", sep=\",\")\n",
    "\n",
    "print(\"Dimensão da base:\", base_completa.shape)\n",
    "base_completa.head(3)"
   ]
  },
  {
   "cell_type": "markdown",
   "id": "30cef4b0",
   "metadata": {},
   "source": [
    "### Exploratória de Dados "
   ]
  },
  {
   "cell_type": "markdown",
   "id": "2a23a30c",
   "metadata": {},
   "source": [
    "#### Tipos de dados na base:"
   ]
  },
  {
   "cell_type": "code",
   "execution_count": 3,
   "id": "849f07cf",
   "metadata": {},
   "outputs": [
    {
     "data": {
      "text/plain": [
       "array([dtype('O'), dtype('int64'), dtype('float64')], dtype=object)"
      ]
     },
     "execution_count": 3,
     "metadata": {},
     "output_type": "execute_result"
    }
   ],
   "source": [
    "base_completa.dtypes.unique()"
   ]
  },
  {
   "cell_type": "markdown",
   "id": "492d4ec0",
   "metadata": {},
   "source": [
    "#### Análise para variáveis numéricas:"
   ]
  },
  {
   "cell_type": "markdown",
   "id": "e2ab1b28",
   "metadata": {},
   "source": [
    "Primeiro vamos analisar apenas as colunas com valores numéricos."
   ]
  },
  {
   "cell_type": "code",
   "execution_count": 4,
   "id": "639e4122",
   "metadata": {},
   "outputs": [
    {
     "data": {
      "text/plain": [
       "INVOLVED_STOCK                 int64\n",
       "REMAINING_STOCK_AFTER_END      int64\n",
       "SOLD_AMOUNT                  float64\n",
       "SOLD_QUANTITY                float64\n",
       "dtype: object"
      ]
     },
     "execution_count": 4,
     "metadata": {},
     "output_type": "execute_result"
    }
   ],
   "source": [
    "base_completa.select_dtypes(include=['int64','float64']).dtypes"
   ]
  },
  {
   "cell_type": "code",
   "execution_count": 5,
   "id": "e9e3cf65",
   "metadata": {
    "scrolled": false
   },
   "outputs": [
    {
     "data": {
      "text/html": [
       "<div>\n",
       "<style scoped>\n",
       "    .dataframe tbody tr th:only-of-type {\n",
       "        vertical-align: middle;\n",
       "    }\n",
       "\n",
       "    .dataframe tbody tr th {\n",
       "        vertical-align: top;\n",
       "    }\n",
       "\n",
       "    .dataframe thead th {\n",
       "        text-align: right;\n",
       "    }\n",
       "</style>\n",
       "<table border=\"1\" class=\"dataframe\">\n",
       "  <thead>\n",
       "    <tr style=\"text-align: right;\">\n",
       "      <th></th>\n",
       "      <th>INVOLVED_STOCK</th>\n",
       "      <th>REMAINING_STOCK_AFTER_END</th>\n",
       "      <th>SOLD_AMOUNT</th>\n",
       "      <th>SOLD_QUANTITY</th>\n",
       "    </tr>\n",
       "  </thead>\n",
       "  <tbody>\n",
       "    <tr>\n",
       "      <th>count</th>\n",
       "      <td>48746.000000</td>\n",
       "      <td>48746.000000</td>\n",
       "      <td>24579.000000</td>\n",
       "      <td>24579.000000</td>\n",
       "    </tr>\n",
       "    <tr>\n",
       "      <th>mean</th>\n",
       "      <td>35.007508</td>\n",
       "      <td>30.565216</td>\n",
       "      <td>51.208898</td>\n",
       "      <td>10.851052</td>\n",
       "    </tr>\n",
       "    <tr>\n",
       "      <th>std</th>\n",
       "      <td>206.761058</td>\n",
       "      <td>195.813806</td>\n",
       "      <td>175.254414</td>\n",
       "      <td>45.475305</td>\n",
       "    </tr>\n",
       "    <tr>\n",
       "      <th>min</th>\n",
       "      <td>1.000000</td>\n",
       "      <td>-192.000000</td>\n",
       "      <td>0.280000</td>\n",
       "      <td>1.000000</td>\n",
       "    </tr>\n",
       "    <tr>\n",
       "      <th>25%</th>\n",
       "      <td>5.000000</td>\n",
       "      <td>4.000000</td>\n",
       "      <td>5.730000</td>\n",
       "      <td>1.000000</td>\n",
       "    </tr>\n",
       "    <tr>\n",
       "      <th>50%</th>\n",
       "      <td>10.000000</td>\n",
       "      <td>8.000000</td>\n",
       "      <td>12.420000</td>\n",
       "      <td>3.000000</td>\n",
       "    </tr>\n",
       "    <tr>\n",
       "      <th>75%</th>\n",
       "      <td>15.000000</td>\n",
       "      <td>15.000000</td>\n",
       "      <td>30.925000</td>\n",
       "      <td>6.000000</td>\n",
       "    </tr>\n",
       "    <tr>\n",
       "      <th>max</th>\n",
       "      <td>9000.000000</td>\n",
       "      <td>8635.000000</td>\n",
       "      <td>4836.570000</td>\n",
       "      <td>1646.000000</td>\n",
       "    </tr>\n",
       "  </tbody>\n",
       "</table>\n",
       "</div>"
      ],
      "text/plain": [
       "       INVOLVED_STOCK  REMAINING_STOCK_AFTER_END   SOLD_AMOUNT  SOLD_QUANTITY\n",
       "count    48746.000000               48746.000000  24579.000000   24579.000000\n",
       "mean        35.007508                  30.565216     51.208898      10.851052\n",
       "std        206.761058                 195.813806    175.254414      45.475305\n",
       "min          1.000000                -192.000000      0.280000       1.000000\n",
       "25%          5.000000                   4.000000      5.730000       1.000000\n",
       "50%         10.000000                   8.000000     12.420000       3.000000\n",
       "75%         15.000000                  15.000000     30.925000       6.000000\n",
       "max       9000.000000                8635.000000   4836.570000    1646.000000"
      ]
     },
     "execution_count": 5,
     "metadata": {},
     "output_type": "execute_result"
    }
   ],
   "source": [
    "base_completa.describe()"
   ]
  },
  {
   "cell_type": "markdown",
   "id": "8be8b190",
   "metadata": {},
   "source": [
    "Dentre algumas informações acima, podemos notar que apenas uma coluna possui valores negativos (quando a quantidade vendida é maior que a quantidade em estoque), a média e o desvio são menores para a coluna de quantidade vendida quando comparada as demais numéricas e para alguns casos não houveram vendas (temos preenchimento para 24.579 SOLD_QUANTITY das 48.746 ofertas relâmpago).\n",
    "\n",
    "A seguir vamos analisar melhor os casos negativos em estoque restante após o término (REMAINING_STOCK_AFTER_END):"
   ]
  },
  {
   "cell_type": "code",
   "execution_count": 6,
   "id": "afb3fa99",
   "metadata": {
    "scrolled": true
   },
   "outputs": [
    {
     "data": {
      "text/html": [
       "<div>\n",
       "<style scoped>\n",
       "    .dataframe tbody tr th:only-of-type {\n",
       "        vertical-align: middle;\n",
       "    }\n",
       "\n",
       "    .dataframe tbody tr th {\n",
       "        vertical-align: top;\n",
       "    }\n",
       "\n",
       "    .dataframe thead th {\n",
       "        text-align: right;\n",
       "    }\n",
       "</style>\n",
       "<table border=\"1\" class=\"dataframe\">\n",
       "  <thead>\n",
       "    <tr style=\"text-align: right;\">\n",
       "      <th></th>\n",
       "      <th>OFFER_START_DATE</th>\n",
       "      <th>OFFER_START_DTTM</th>\n",
       "      <th>OFFER_FINISH_DTTM</th>\n",
       "      <th>OFFER_TYPE</th>\n",
       "      <th>INVOLVED_STOCK</th>\n",
       "      <th>REMAINING_STOCK_AFTER_END</th>\n",
       "      <th>SOLD_AMOUNT</th>\n",
       "      <th>SOLD_QUANTITY</th>\n",
       "      <th>ORIGIN</th>\n",
       "      <th>SHIPPING_PAYMENT_TYPE</th>\n",
       "      <th>DOM_DOMAIN_AGG1</th>\n",
       "      <th>VERTICAL</th>\n",
       "      <th>DOMAIN_ID</th>\n",
       "    </tr>\n",
       "  </thead>\n",
       "  <tbody>\n",
       "    <tr>\n",
       "      <th>0</th>\n",
       "      <td>2021-06-22</td>\n",
       "      <td>2021-06-22 16:00:00+00:00</td>\n",
       "      <td>2021-06-22 23:02:43+00:00</td>\n",
       "      <td>lightning_deal</td>\n",
       "      <td>4</td>\n",
       "      <td>-2</td>\n",
       "      <td>4.72</td>\n",
       "      <td>6.0</td>\n",
       "      <td>A</td>\n",
       "      <td>none</td>\n",
       "      <td>PETS FOOD</td>\n",
       "      <td>CPG</td>\n",
       "      <td>MLM-BIRD_FOODS</td>\n",
       "    </tr>\n",
       "    <tr>\n",
       "      <th>7</th>\n",
       "      <td>2021-06-22</td>\n",
       "      <td>2021-06-22 19:00:00+00:00</td>\n",
       "      <td>2021-06-22 23:05:39+00:00</td>\n",
       "      <td>lightning_deal</td>\n",
       "      <td>10</td>\n",
       "      <td>-1</td>\n",
       "      <td>103.03</td>\n",
       "      <td>11.0</td>\n",
       "      <td>NaN</td>\n",
       "      <td>free_shipping</td>\n",
       "      <td>COMPUTERS</td>\n",
       "      <td>CE</td>\n",
       "      <td>MLM-HEADPHONES</td>\n",
       "    </tr>\n",
       "    <tr>\n",
       "      <th>8</th>\n",
       "      <td>2021-06-22</td>\n",
       "      <td>2021-06-22 19:00:00+00:00</td>\n",
       "      <td>2021-06-22 23:05:32+00:00</td>\n",
       "      <td>lightning_deal</td>\n",
       "      <td>10</td>\n",
       "      <td>-1</td>\n",
       "      <td>NaN</td>\n",
       "      <td>NaN</td>\n",
       "      <td>NaN</td>\n",
       "      <td>free_shipping</td>\n",
       "      <td>COMPUTERS</td>\n",
       "      <td>CE</td>\n",
       "      <td>MLM-HEADPHONES</td>\n",
       "    </tr>\n",
       "    <tr>\n",
       "      <th>29</th>\n",
       "      <td>2021-06-22</td>\n",
       "      <td>2021-06-22 13:00:00+00:00</td>\n",
       "      <td>2021-06-22 14:20:21+00:00</td>\n",
       "      <td>lightning_deal</td>\n",
       "      <td>5</td>\n",
       "      <td>-4</td>\n",
       "      <td>12.18</td>\n",
       "      <td>9.0</td>\n",
       "      <td>NaN</td>\n",
       "      <td>none</td>\n",
       "      <td>HOME&amp;DECOR</td>\n",
       "      <td>HOME &amp; INDUSTRY</td>\n",
       "      <td>MLM-SOAP_AND_DETERGENT_DISPENSERS</td>\n",
       "    </tr>\n",
       "    <tr>\n",
       "      <th>77</th>\n",
       "      <td>2021-06-22</td>\n",
       "      <td>2021-06-22 16:00:00+00:00</td>\n",
       "      <td>2021-06-22 18:42:19+00:00</td>\n",
       "      <td>lightning_deal</td>\n",
       "      <td>8</td>\n",
       "      <td>-1</td>\n",
       "      <td>12.61</td>\n",
       "      <td>9.0</td>\n",
       "      <td>A</td>\n",
       "      <td>none</td>\n",
       "      <td>PETS FOOD</td>\n",
       "      <td>CPG</td>\n",
       "      <td>MLM-CATS_AND_DOGS_FOODS</td>\n",
       "    </tr>\n",
       "  </tbody>\n",
       "</table>\n",
       "</div>"
      ],
      "text/plain": [
       "   OFFER_START_DATE           OFFER_START_DTTM          OFFER_FINISH_DTTM  \\\n",
       "0        2021-06-22  2021-06-22 16:00:00+00:00  2021-06-22 23:02:43+00:00   \n",
       "7        2021-06-22  2021-06-22 19:00:00+00:00  2021-06-22 23:05:39+00:00   \n",
       "8        2021-06-22  2021-06-22 19:00:00+00:00  2021-06-22 23:05:32+00:00   \n",
       "29       2021-06-22  2021-06-22 13:00:00+00:00  2021-06-22 14:20:21+00:00   \n",
       "77       2021-06-22  2021-06-22 16:00:00+00:00  2021-06-22 18:42:19+00:00   \n",
       "\n",
       "        OFFER_TYPE  INVOLVED_STOCK  REMAINING_STOCK_AFTER_END  SOLD_AMOUNT  \\\n",
       "0   lightning_deal               4                         -2         4.72   \n",
       "7   lightning_deal              10                         -1       103.03   \n",
       "8   lightning_deal              10                         -1          NaN   \n",
       "29  lightning_deal               5                         -4        12.18   \n",
       "77  lightning_deal               8                         -1        12.61   \n",
       "\n",
       "    SOLD_QUANTITY ORIGIN SHIPPING_PAYMENT_TYPE DOM_DOMAIN_AGG1  \\\n",
       "0             6.0      A                  none       PETS FOOD   \n",
       "7            11.0    NaN         free_shipping       COMPUTERS   \n",
       "8             NaN    NaN         free_shipping       COMPUTERS   \n",
       "29            9.0    NaN                  none      HOME&DECOR   \n",
       "77            9.0      A                  none       PETS FOOD   \n",
       "\n",
       "           VERTICAL                          DOMAIN_ID  \n",
       "0               CPG                     MLM-BIRD_FOODS  \n",
       "7                CE                     MLM-HEADPHONES  \n",
       "8                CE                     MLM-HEADPHONES  \n",
       "29  HOME & INDUSTRY  MLM-SOAP_AND_DETERGENT_DISPENSERS  \n",
       "77              CPG            MLM-CATS_AND_DOGS_FOODS  "
      ]
     },
     "execution_count": 6,
     "metadata": {},
     "output_type": "execute_result"
    }
   ],
   "source": [
    "base_completa[base_completa.REMAINING_STOCK_AFTER_END < 0].head()"
   ]
  },
  {
   "cell_type": "markdown",
   "id": "d06b4ce1",
   "metadata": {},
   "source": [
    "A tabela acima parece fazer sentido ter valores negativos, dado que a quantidade vendida foi acima da quantidade em estoque. "
   ]
  },
  {
   "cell_type": "markdown",
   "id": "1a4eb87a",
   "metadata": {},
   "source": [
    "Em alguns casos podemos notar que <b>não existem</b> valores para quantidade vendida (SOLD_QUANTITY) e <b>temos valores</b> para estoque restante após o termino (REMAINING_STOCK_AFTER_END), talvez seja uma falha no banco e seja necessário tratar. Existem algumas alternativas para tratar, como por exemplo, removendo ou realizando algumas contas.\n",
    "\n",
    "A seguir podemos notar alguns exemplos (com a forma de tratar acima de cada tabela):"
   ]
  },
  {
   "cell_type": "code",
   "execution_count": 7,
   "id": "1b4e4052",
   "metadata": {},
   "outputs": [
    {
     "name": "stdout",
     "output_type": "stream",
     "text": [
      "SOLD_QUANTITY = INVOLVED_STOCK + |REMAINING_STOCK_AFTER_END|:\n"
     ]
    },
    {
     "data": {
      "text/html": [
       "<div>\n",
       "<style scoped>\n",
       "    .dataframe tbody tr th:only-of-type {\n",
       "        vertical-align: middle;\n",
       "    }\n",
       "\n",
       "    .dataframe tbody tr th {\n",
       "        vertical-align: top;\n",
       "    }\n",
       "\n",
       "    .dataframe thead th {\n",
       "        text-align: right;\n",
       "    }\n",
       "</style>\n",
       "<table border=\"1\" class=\"dataframe\">\n",
       "  <thead>\n",
       "    <tr style=\"text-align: right;\">\n",
       "      <th></th>\n",
       "      <th>INVOLVED_STOCK</th>\n",
       "      <th>REMAINING_STOCK_AFTER_END</th>\n",
       "      <th>SOLD_AMOUNT</th>\n",
       "      <th>SOLD_QUANTITY</th>\n",
       "    </tr>\n",
       "  </thead>\n",
       "  <tbody>\n",
       "    <tr>\n",
       "      <th>8</th>\n",
       "      <td>10</td>\n",
       "      <td>-1</td>\n",
       "      <td>NaN</td>\n",
       "      <td>NaN</td>\n",
       "    </tr>\n",
       "    <tr>\n",
       "      <th>3399</th>\n",
       "      <td>5</td>\n",
       "      <td>-1</td>\n",
       "      <td>NaN</td>\n",
       "      <td>NaN</td>\n",
       "    </tr>\n",
       "    <tr>\n",
       "      <th>4210</th>\n",
       "      <td>15</td>\n",
       "      <td>-2</td>\n",
       "      <td>NaN</td>\n",
       "      <td>NaN</td>\n",
       "    </tr>\n",
       "  </tbody>\n",
       "</table>\n",
       "</div>"
      ],
      "text/plain": [
       "      INVOLVED_STOCK  REMAINING_STOCK_AFTER_END  SOLD_AMOUNT  SOLD_QUANTITY\n",
       "8                 10                         -1          NaN            NaN\n",
       "3399               5                         -1          NaN            NaN\n",
       "4210              15                         -2          NaN            NaN"
      ]
     },
     "execution_count": 7,
     "metadata": {},
     "output_type": "execute_result"
    }
   ],
   "source": [
    "print(\"SOLD_QUANTITY = INVOLVED_STOCK + |REMAINING_STOCK_AFTER_END|:\")\n",
    "base_completa[(base_completa.REMAINING_STOCK_AFTER_END < 0) & pd.isna(base_completa.SOLD_QUANTITY)].iloc[0:3:,4:8]"
   ]
  },
  {
   "cell_type": "code",
   "execution_count": 8,
   "id": "a82981d1",
   "metadata": {},
   "outputs": [
    {
     "name": "stdout",
     "output_type": "stream",
     "text": [
      "SOLD_QUANTITY = INVOLVED_STOCK - REMAINING_STOCK_AFTER_END\n"
     ]
    },
    {
     "data": {
      "text/html": [
       "<div>\n",
       "<style scoped>\n",
       "    .dataframe tbody tr th:only-of-type {\n",
       "        vertical-align: middle;\n",
       "    }\n",
       "\n",
       "    .dataframe tbody tr th {\n",
       "        vertical-align: top;\n",
       "    }\n",
       "\n",
       "    .dataframe thead th {\n",
       "        text-align: right;\n",
       "    }\n",
       "</style>\n",
       "<table border=\"1\" class=\"dataframe\">\n",
       "  <thead>\n",
       "    <tr style=\"text-align: right;\">\n",
       "      <th></th>\n",
       "      <th>INVOLVED_STOCK</th>\n",
       "      <th>REMAINING_STOCK_AFTER_END</th>\n",
       "      <th>SOLD_AMOUNT</th>\n",
       "      <th>SOLD_QUANTITY</th>\n",
       "    </tr>\n",
       "  </thead>\n",
       "  <tbody>\n",
       "    <tr>\n",
       "      <th>299</th>\n",
       "      <td>15</td>\n",
       "      <td>7</td>\n",
       "      <td>NaN</td>\n",
       "      <td>NaN</td>\n",
       "    </tr>\n",
       "    <tr>\n",
       "      <th>522</th>\n",
       "      <td>100</td>\n",
       "      <td>96</td>\n",
       "      <td>NaN</td>\n",
       "      <td>NaN</td>\n",
       "    </tr>\n",
       "    <tr>\n",
       "      <th>623</th>\n",
       "      <td>10</td>\n",
       "      <td>5</td>\n",
       "      <td>NaN</td>\n",
       "      <td>NaN</td>\n",
       "    </tr>\n",
       "  </tbody>\n",
       "</table>\n",
       "</div>"
      ],
      "text/plain": [
       "     INVOLVED_STOCK  REMAINING_STOCK_AFTER_END  SOLD_AMOUNT  SOLD_QUANTITY\n",
       "299              15                          7          NaN            NaN\n",
       "522             100                         96          NaN            NaN\n",
       "623              10                          5          NaN            NaN"
      ]
     },
     "execution_count": 8,
     "metadata": {},
     "output_type": "execute_result"
    }
   ],
   "source": [
    "print(\"SOLD_QUANTITY = INVOLVED_STOCK - REMAINING_STOCK_AFTER_END\")\n",
    "base_completa[(base_completa.REMAINING_STOCK_AFTER_END > 0) & (base_completa.REMAINING_STOCK_AFTER_END != base_completa.INVOLVED_STOCK) & pd.isna(base_completa.SOLD_QUANTITY)].iloc[0:3:,4:8]"
   ]
  },
  {
   "cell_type": "code",
   "execution_count": 9,
   "id": "1a91323e",
   "metadata": {},
   "outputs": [
    {
     "name": "stdout",
     "output_type": "stream",
     "text": [
      "SOLD_QUANTITY = 0\n"
     ]
    },
    {
     "data": {
      "text/html": [
       "<div>\n",
       "<style scoped>\n",
       "    .dataframe tbody tr th:only-of-type {\n",
       "        vertical-align: middle;\n",
       "    }\n",
       "\n",
       "    .dataframe tbody tr th {\n",
       "        vertical-align: top;\n",
       "    }\n",
       "\n",
       "    .dataframe thead th {\n",
       "        text-align: right;\n",
       "    }\n",
       "</style>\n",
       "<table border=\"1\" class=\"dataframe\">\n",
       "  <thead>\n",
       "    <tr style=\"text-align: right;\">\n",
       "      <th></th>\n",
       "      <th>INVOLVED_STOCK</th>\n",
       "      <th>REMAINING_STOCK_AFTER_END</th>\n",
       "      <th>SOLD_AMOUNT</th>\n",
       "      <th>SOLD_QUANTITY</th>\n",
       "    </tr>\n",
       "  </thead>\n",
       "  <tbody>\n",
       "    <tr>\n",
       "      <th>1</th>\n",
       "      <td>5</td>\n",
       "      <td>5</td>\n",
       "      <td>NaN</td>\n",
       "      <td>NaN</td>\n",
       "    </tr>\n",
       "    <tr>\n",
       "      <th>5</th>\n",
       "      <td>23</td>\n",
       "      <td>23</td>\n",
       "      <td>NaN</td>\n",
       "      <td>NaN</td>\n",
       "    </tr>\n",
       "    <tr>\n",
       "      <th>6</th>\n",
       "      <td>10</td>\n",
       "      <td>10</td>\n",
       "      <td>NaN</td>\n",
       "      <td>NaN</td>\n",
       "    </tr>\n",
       "  </tbody>\n",
       "</table>\n",
       "</div>"
      ],
      "text/plain": [
       "   INVOLVED_STOCK  REMAINING_STOCK_AFTER_END  SOLD_AMOUNT  SOLD_QUANTITY\n",
       "1               5                          5          NaN            NaN\n",
       "5              23                         23          NaN            NaN\n",
       "6              10                         10          NaN            NaN"
      ]
     },
     "execution_count": 9,
     "metadata": {},
     "output_type": "execute_result"
    }
   ],
   "source": [
    "print(\"SOLD_QUANTITY = 0\")\n",
    "base_completa[(base_completa.REMAINING_STOCK_AFTER_END == base_completa.INVOLVED_STOCK) & pd.isna(base_completa.SOLD_QUANTITY)].iloc[0:3:,4:8]"
   ]
  },
  {
   "cell_type": "code",
   "execution_count": 10,
   "id": "113aabf6",
   "metadata": {},
   "outputs": [
    {
     "name": "stdout",
     "output_type": "stream",
     "text": [
      "SOLD_QUANTITY = INVOLVED_STOCK\n"
     ]
    },
    {
     "data": {
      "text/html": [
       "<div>\n",
       "<style scoped>\n",
       "    .dataframe tbody tr th:only-of-type {\n",
       "        vertical-align: middle;\n",
       "    }\n",
       "\n",
       "    .dataframe tbody tr th {\n",
       "        vertical-align: top;\n",
       "    }\n",
       "\n",
       "    .dataframe thead th {\n",
       "        text-align: right;\n",
       "    }\n",
       "</style>\n",
       "<table border=\"1\" class=\"dataframe\">\n",
       "  <thead>\n",
       "    <tr style=\"text-align: right;\">\n",
       "      <th></th>\n",
       "      <th>INVOLVED_STOCK</th>\n",
       "      <th>REMAINING_STOCK_AFTER_END</th>\n",
       "      <th>SOLD_AMOUNT</th>\n",
       "      <th>SOLD_QUANTITY</th>\n",
       "    </tr>\n",
       "  </thead>\n",
       "  <tbody>\n",
       "    <tr>\n",
       "      <th>641</th>\n",
       "      <td>15</td>\n",
       "      <td>0</td>\n",
       "      <td>NaN</td>\n",
       "      <td>NaN</td>\n",
       "    </tr>\n",
       "    <tr>\n",
       "      <th>798</th>\n",
       "      <td>2</td>\n",
       "      <td>0</td>\n",
       "      <td>NaN</td>\n",
       "      <td>NaN</td>\n",
       "    </tr>\n",
       "    <tr>\n",
       "      <th>813</th>\n",
       "      <td>5</td>\n",
       "      <td>0</td>\n",
       "      <td>NaN</td>\n",
       "      <td>NaN</td>\n",
       "    </tr>\n",
       "  </tbody>\n",
       "</table>\n",
       "</div>"
      ],
      "text/plain": [
       "     INVOLVED_STOCK  REMAINING_STOCK_AFTER_END  SOLD_AMOUNT  SOLD_QUANTITY\n",
       "641              15                          0          NaN            NaN\n",
       "798               2                          0          NaN            NaN\n",
       "813               5                          0          NaN            NaN"
      ]
     },
     "execution_count": 10,
     "metadata": {},
     "output_type": "execute_result"
    }
   ],
   "source": [
    "print(\"SOLD_QUANTITY = INVOLVED_STOCK\")\n",
    "base_completa[(base_completa.INVOLVED_STOCK > 0) & (base_completa.REMAINING_STOCK_AFTER_END == 0) & pd.isna(base_completa.SOLD_QUANTITY)].iloc[0:3:,4:8]"
   ]
  },
  {
   "cell_type": "markdown",
   "id": "3ff0b59a",
   "metadata": {},
   "source": [
    "O tratamento citado acima (caso necessário) poderia ser realizado diretamente no banco ou pelo próprio Python. Vamos ilustrar uma alternativa de como tratar pelo Python:"
   ]
  },
  {
   "cell_type": "code",
   "execution_count": 11,
   "id": "26c27da6",
   "metadata": {},
   "outputs": [],
   "source": [
    "# caso necessário o cálculo abaixo pode ser refinado para uma abordagem mais \"elegante\"\n",
    "def tratamento_1(x):\n",
    "    return x[4] + abs(x[5])\n",
    "\n",
    "def tratamento_2(y):\n",
    "    return y[4] - y[5]\n",
    "\n",
    "def tratamento_3(z):\n",
    "    return 0\n",
    "\n",
    "def tratamento_4(x):\n",
    "    return x[4]\n",
    "\n",
    "# vamos realizar os tratamentos a depender das condições \n",
    "base_completa['nova_coluna_caso_1'] = base_completa[(base_completa['REMAINING_STOCK_AFTER_END'] < 0) & pd.isna(base_completa['SOLD_QUANTITY'])].apply(tratamento_1, axis=1)\n",
    "base_completa['nova_coluna_caso_2'] = base_completa[(base_completa['REMAINING_STOCK_AFTER_END'] > 0) & (base_completa['REMAINING_STOCK_AFTER_END'] != base_completa['INVOLVED_STOCK']) & pd.isna(base_completa['SOLD_QUANTITY'])].apply(tratamento_2, axis=1)\n",
    "base_completa['nova_coluna_caso_3'] = base_completa[(base_completa['REMAINING_STOCK_AFTER_END'] == base_completa['INVOLVED_STOCK']) & pd.isna(base_completa['SOLD_QUANTITY'])].apply(tratamento_3, axis=1)\n",
    "base_completa['nova_coluna_caso_4'] = base_completa[(base_completa.INVOLVED_STOCK > 0) & (base_completa.REMAINING_STOCK_AFTER_END == 0) & pd.isna(base_completa.SOLD_QUANTITY)].apply(tratamento_4, axis=1)"
   ]
  },
  {
   "cell_type": "code",
   "execution_count": 12,
   "id": "d3ac1cbb",
   "metadata": {},
   "outputs": [
    {
     "data": {
      "text/html": [
       "<div>\n",
       "<style scoped>\n",
       "    .dataframe tbody tr th:only-of-type {\n",
       "        vertical-align: middle;\n",
       "    }\n",
       "\n",
       "    .dataframe tbody tr th {\n",
       "        vertical-align: top;\n",
       "    }\n",
       "\n",
       "    .dataframe thead th {\n",
       "        text-align: right;\n",
       "    }\n",
       "</style>\n",
       "<table border=\"1\" class=\"dataframe\">\n",
       "  <thead>\n",
       "    <tr style=\"text-align: right;\">\n",
       "      <th></th>\n",
       "      <th>INVOLVED_STOCK</th>\n",
       "      <th>REMAINING_STOCK_AFTER_END</th>\n",
       "      <th>SOLD_QUANTITY</th>\n",
       "      <th>nova_coluna_caso_1</th>\n",
       "      <th>nova_coluna_caso_2</th>\n",
       "      <th>nova_coluna_caso_3</th>\n",
       "      <th>nova_coluna_caso_4</th>\n",
       "    </tr>\n",
       "  </thead>\n",
       "  <tbody>\n",
       "    <tr>\n",
       "      <th>8</th>\n",
       "      <td>10</td>\n",
       "      <td>-1</td>\n",
       "      <td>NaN</td>\n",
       "      <td>11.0</td>\n",
       "      <td>NaN</td>\n",
       "      <td>NaN</td>\n",
       "      <td>NaN</td>\n",
       "    </tr>\n",
       "    <tr>\n",
       "      <th>299</th>\n",
       "      <td>15</td>\n",
       "      <td>7</td>\n",
       "      <td>NaN</td>\n",
       "      <td>NaN</td>\n",
       "      <td>8.0</td>\n",
       "      <td>NaN</td>\n",
       "      <td>NaN</td>\n",
       "    </tr>\n",
       "    <tr>\n",
       "      <th>1</th>\n",
       "      <td>5</td>\n",
       "      <td>5</td>\n",
       "      <td>NaN</td>\n",
       "      <td>NaN</td>\n",
       "      <td>NaN</td>\n",
       "      <td>0.0</td>\n",
       "      <td>NaN</td>\n",
       "    </tr>\n",
       "    <tr>\n",
       "      <th>641</th>\n",
       "      <td>15</td>\n",
       "      <td>0</td>\n",
       "      <td>NaN</td>\n",
       "      <td>NaN</td>\n",
       "      <td>NaN</td>\n",
       "      <td>NaN</td>\n",
       "      <td>15.0</td>\n",
       "    </tr>\n",
       "  </tbody>\n",
       "</table>\n",
       "</div>"
      ],
      "text/plain": [
       "     INVOLVED_STOCK  REMAINING_STOCK_AFTER_END  SOLD_QUANTITY  \\\n",
       "8                10                         -1            NaN   \n",
       "299              15                          7            NaN   \n",
       "1                 5                          5            NaN   \n",
       "641              15                          0            NaN   \n",
       "\n",
       "     nova_coluna_caso_1  nova_coluna_caso_2  nova_coluna_caso_3  \\\n",
       "8                  11.0                 NaN                 NaN   \n",
       "299                 NaN                 8.0                 NaN   \n",
       "1                   NaN                 NaN                 0.0   \n",
       "641                 NaN                 NaN                 NaN   \n",
       "\n",
       "     nova_coluna_caso_4  \n",
       "8                   NaN  \n",
       "299                 NaN  \n",
       "1                   NaN  \n",
       "641                15.0  "
      ]
     },
     "execution_count": 12,
     "metadata": {},
     "output_type": "execute_result"
    }
   ],
   "source": [
    "# na tabela abaixo podemos visualizar um exemplo de cada caso (porém ainda iremos transformar as 4 colunas em apenas 1)\n",
    "base_completa[['INVOLVED_STOCK','REMAINING_STOCK_AFTER_END','SOLD_QUANTITY','nova_coluna_caso_1','nova_coluna_caso_2','nova_coluna_caso_3', 'nova_coluna_caso_4']].iloc[[8,299,1,641],:]"
   ]
  },
  {
   "cell_type": "code",
   "execution_count": 13,
   "id": "bb807990",
   "metadata": {},
   "outputs": [],
   "source": [
    "# vamos alterar para transformar as 4 colunas em 1\n",
    "\n",
    "condicao = base_completa[['nova_coluna_caso_1', 'nova_coluna_caso_2', 'nova_coluna_caso_3', 'nova_coluna_caso_4']].isnull().all(axis=1)\n",
    "soma = base_completa[['nova_coluna_caso_1', 'nova_coluna_caso_2', 'nova_coluna_caso_3', 'nova_coluna_caso_4']].sum(axis=1, skipna=True)\n",
    "soma[condicao] = np.nan\n",
    "\n",
    "base_completa['SOLD_QUANTITY_NEW'] = soma\n",
    "\n",
    "base_completa.drop(columns=['nova_coluna_caso_1', 'nova_coluna_caso_2', 'nova_coluna_caso_3', 'nova_coluna_caso_4'], inplace=True)"
   ]
  },
  {
   "cell_type": "code",
   "execution_count": 14,
   "id": "cb042dc2",
   "metadata": {},
   "outputs": [
    {
     "data": {
      "text/html": [
       "<div>\n",
       "<style scoped>\n",
       "    .dataframe tbody tr th:only-of-type {\n",
       "        vertical-align: middle;\n",
       "    }\n",
       "\n",
       "    .dataframe tbody tr th {\n",
       "        vertical-align: top;\n",
       "    }\n",
       "\n",
       "    .dataframe thead th {\n",
       "        text-align: right;\n",
       "    }\n",
       "</style>\n",
       "<table border=\"1\" class=\"dataframe\">\n",
       "  <thead>\n",
       "    <tr style=\"text-align: right;\">\n",
       "      <th></th>\n",
       "      <th>INVOLVED_STOCK</th>\n",
       "      <th>REMAINING_STOCK_AFTER_END</th>\n",
       "      <th>SOLD_QUANTITY</th>\n",
       "      <th>SOLD_QUANTITY_NEW</th>\n",
       "    </tr>\n",
       "  </thead>\n",
       "  <tbody>\n",
       "    <tr>\n",
       "      <th>8</th>\n",
       "      <td>10</td>\n",
       "      <td>-1</td>\n",
       "      <td>NaN</td>\n",
       "      <td>11.0</td>\n",
       "    </tr>\n",
       "    <tr>\n",
       "      <th>299</th>\n",
       "      <td>15</td>\n",
       "      <td>7</td>\n",
       "      <td>NaN</td>\n",
       "      <td>8.0</td>\n",
       "    </tr>\n",
       "    <tr>\n",
       "      <th>1</th>\n",
       "      <td>5</td>\n",
       "      <td>5</td>\n",
       "      <td>NaN</td>\n",
       "      <td>0.0</td>\n",
       "    </tr>\n",
       "    <tr>\n",
       "      <th>641</th>\n",
       "      <td>15</td>\n",
       "      <td>0</td>\n",
       "      <td>NaN</td>\n",
       "      <td>15.0</td>\n",
       "    </tr>\n",
       "  </tbody>\n",
       "</table>\n",
       "</div>"
      ],
      "text/plain": [
       "     INVOLVED_STOCK  REMAINING_STOCK_AFTER_END  SOLD_QUANTITY  \\\n",
       "8                10                         -1            NaN   \n",
       "299              15                          7            NaN   \n",
       "1                 5                          5            NaN   \n",
       "641              15                          0            NaN   \n",
       "\n",
       "     SOLD_QUANTITY_NEW  \n",
       "8                 11.0  \n",
       "299                8.0  \n",
       "1                  0.0  \n",
       "641               15.0  "
      ]
     },
     "execution_count": 14,
     "metadata": {},
     "output_type": "execute_result"
    }
   ],
   "source": [
    "# na tabela abaixo podemos visualizar um exemplo de cada caso \n",
    "base_completa[['INVOLVED_STOCK','REMAINING_STOCK_AFTER_END','SOLD_QUANTITY','SOLD_QUANTITY_NEW']].iloc[[8,299,1,641],:]"
   ]
  },
  {
   "cell_type": "code",
   "execution_count": 15,
   "id": "4fa1a0ce",
   "metadata": {
    "scrolled": true
   },
   "outputs": [
    {
     "data": {
      "text/html": [
       "<div>\n",
       "<style scoped>\n",
       "    .dataframe tbody tr th:only-of-type {\n",
       "        vertical-align: middle;\n",
       "    }\n",
       "\n",
       "    .dataframe tbody tr th {\n",
       "        vertical-align: top;\n",
       "    }\n",
       "\n",
       "    .dataframe thead th {\n",
       "        text-align: right;\n",
       "    }\n",
       "</style>\n",
       "<table border=\"1\" class=\"dataframe\">\n",
       "  <thead>\n",
       "    <tr style=\"text-align: right;\">\n",
       "      <th></th>\n",
       "      <th>SOLD_QUANTITY</th>\n",
       "      <th>SOLD_QUANTITY_NEW</th>\n",
       "    </tr>\n",
       "  </thead>\n",
       "  <tbody>\n",
       "    <tr>\n",
       "      <th>0</th>\n",
       "      <td>6.0</td>\n",
       "      <td>NaN</td>\n",
       "    </tr>\n",
       "    <tr>\n",
       "      <th>1</th>\n",
       "      <td>NaN</td>\n",
       "      <td>0.0</td>\n",
       "    </tr>\n",
       "    <tr>\n",
       "      <th>2</th>\n",
       "      <td>3.0</td>\n",
       "      <td>NaN</td>\n",
       "    </tr>\n",
       "  </tbody>\n",
       "</table>\n",
       "</div>"
      ],
      "text/plain": [
       "   SOLD_QUANTITY  SOLD_QUANTITY_NEW\n",
       "0            6.0                NaN\n",
       "1            NaN                0.0\n",
       "2            3.0                NaN"
      ]
     },
     "execution_count": 15,
     "metadata": {},
     "output_type": "execute_result"
    }
   ],
   "source": [
    "# apenas para conferir\n",
    "base_completa[['SOLD_QUANTITY','SOLD_QUANTITY_NEW']].head(3)"
   ]
  },
  {
   "cell_type": "code",
   "execution_count": 16,
   "id": "18c16a83",
   "metadata": {},
   "outputs": [],
   "source": [
    "# na nova coluna temos preenchimento apenas quando a quantidade vendida é NaN, então podemos preencher os valores restantes com a coluna original, dessa forma teremos todas as linhas preenchidas.\n",
    "base_completa['SOLD_QUANTITY_NEW'].fillna(value=base_completa['SOLD_QUANTITY'], inplace=True)"
   ]
  },
  {
   "cell_type": "code",
   "execution_count": 17,
   "id": "4f0879fd",
   "metadata": {},
   "outputs": [
    {
     "data": {
      "text/html": [
       "<div>\n",
       "<style scoped>\n",
       "    .dataframe tbody tr th:only-of-type {\n",
       "        vertical-align: middle;\n",
       "    }\n",
       "\n",
       "    .dataframe tbody tr th {\n",
       "        vertical-align: top;\n",
       "    }\n",
       "\n",
       "    .dataframe thead th {\n",
       "        text-align: right;\n",
       "    }\n",
       "</style>\n",
       "<table border=\"1\" class=\"dataframe\">\n",
       "  <thead>\n",
       "    <tr style=\"text-align: right;\">\n",
       "      <th></th>\n",
       "      <th>INVOLVED_STOCK</th>\n",
       "      <th>REMAINING_STOCK_AFTER_END</th>\n",
       "      <th>SOLD_AMOUNT</th>\n",
       "      <th>SOLD_QUANTITY</th>\n",
       "      <th>SOLD_QUANTITY_NEW</th>\n",
       "    </tr>\n",
       "  </thead>\n",
       "  <tbody>\n",
       "    <tr>\n",
       "      <th>count</th>\n",
       "      <td>48746.000000</td>\n",
       "      <td>48746.000000</td>\n",
       "      <td>24579.000000</td>\n",
       "      <td>24579.000000</td>\n",
       "      <td>48746.000000</td>\n",
       "    </tr>\n",
       "    <tr>\n",
       "      <th>mean</th>\n",
       "      <td>35.007508</td>\n",
       "      <td>30.565216</td>\n",
       "      <td>51.208898</td>\n",
       "      <td>10.851052</td>\n",
       "      <td>5.532557</td>\n",
       "    </tr>\n",
       "    <tr>\n",
       "      <th>std</th>\n",
       "      <td>206.761058</td>\n",
       "      <td>195.813806</td>\n",
       "      <td>175.254414</td>\n",
       "      <td>45.475305</td>\n",
       "      <td>32.743476</td>\n",
       "    </tr>\n",
       "    <tr>\n",
       "      <th>min</th>\n",
       "      <td>1.000000</td>\n",
       "      <td>-192.000000</td>\n",
       "      <td>0.280000</td>\n",
       "      <td>1.000000</td>\n",
       "      <td>0.000000</td>\n",
       "    </tr>\n",
       "    <tr>\n",
       "      <th>25%</th>\n",
       "      <td>5.000000</td>\n",
       "      <td>4.000000</td>\n",
       "      <td>5.730000</td>\n",
       "      <td>1.000000</td>\n",
       "      <td>0.000000</td>\n",
       "    </tr>\n",
       "    <tr>\n",
       "      <th>50%</th>\n",
       "      <td>10.000000</td>\n",
       "      <td>8.000000</td>\n",
       "      <td>12.420000</td>\n",
       "      <td>3.000000</td>\n",
       "      <td>1.000000</td>\n",
       "    </tr>\n",
       "    <tr>\n",
       "      <th>75%</th>\n",
       "      <td>15.000000</td>\n",
       "      <td>15.000000</td>\n",
       "      <td>30.925000</td>\n",
       "      <td>6.000000</td>\n",
       "      <td>3.000000</td>\n",
       "    </tr>\n",
       "    <tr>\n",
       "      <th>max</th>\n",
       "      <td>9000.000000</td>\n",
       "      <td>8635.000000</td>\n",
       "      <td>4836.570000</td>\n",
       "      <td>1646.000000</td>\n",
       "      <td>1646.000000</td>\n",
       "    </tr>\n",
       "  </tbody>\n",
       "</table>\n",
       "</div>"
      ],
      "text/plain": [
       "       INVOLVED_STOCK  REMAINING_STOCK_AFTER_END   SOLD_AMOUNT  SOLD_QUANTITY  \\\n",
       "count    48746.000000               48746.000000  24579.000000   24579.000000   \n",
       "mean        35.007508                  30.565216     51.208898      10.851052   \n",
       "std        206.761058                 195.813806    175.254414      45.475305   \n",
       "min          1.000000                -192.000000      0.280000       1.000000   \n",
       "25%          5.000000                   4.000000      5.730000       1.000000   \n",
       "50%         10.000000                   8.000000     12.420000       3.000000   \n",
       "75%         15.000000                  15.000000     30.925000       6.000000   \n",
       "max       9000.000000                8635.000000   4836.570000    1646.000000   \n",
       "\n",
       "       SOLD_QUANTITY_NEW  \n",
       "count       48746.000000  \n",
       "mean            5.532557  \n",
       "std            32.743476  \n",
       "min             0.000000  \n",
       "25%             0.000000  \n",
       "50%             1.000000  \n",
       "75%             3.000000  \n",
       "max          1646.000000  "
      ]
     },
     "execution_count": 17,
     "metadata": {},
     "output_type": "execute_result"
    }
   ],
   "source": [
    "base_completa.describe()"
   ]
  },
  {
   "cell_type": "code",
   "execution_count": 18,
   "id": "e2200459",
   "metadata": {},
   "outputs": [
    {
     "data": {
      "text/html": [
       "<div>\n",
       "<style scoped>\n",
       "    .dataframe tbody tr th:only-of-type {\n",
       "        vertical-align: middle;\n",
       "    }\n",
       "\n",
       "    .dataframe tbody tr th {\n",
       "        vertical-align: top;\n",
       "    }\n",
       "\n",
       "    .dataframe thead th {\n",
       "        text-align: right;\n",
       "    }\n",
       "</style>\n",
       "<table border=\"1\" class=\"dataframe\">\n",
       "  <thead>\n",
       "    <tr style=\"text-align: right;\">\n",
       "      <th></th>\n",
       "      <th>SOLD_QUANTITY</th>\n",
       "      <th>SOLD_QUANTITY_NEW</th>\n",
       "    </tr>\n",
       "  </thead>\n",
       "  <tbody>\n",
       "    <tr>\n",
       "      <th>0</th>\n",
       "      <td>6.0</td>\n",
       "      <td>6.0</td>\n",
       "    </tr>\n",
       "    <tr>\n",
       "      <th>1</th>\n",
       "      <td>NaN</td>\n",
       "      <td>0.0</td>\n",
       "    </tr>\n",
       "    <tr>\n",
       "      <th>2</th>\n",
       "      <td>3.0</td>\n",
       "      <td>3.0</td>\n",
       "    </tr>\n",
       "  </tbody>\n",
       "</table>\n",
       "</div>"
      ],
      "text/plain": [
       "   SOLD_QUANTITY  SOLD_QUANTITY_NEW\n",
       "0            6.0                6.0\n",
       "1            NaN                0.0\n",
       "2            3.0                3.0"
      ]
     },
     "execution_count": 18,
     "metadata": {},
     "output_type": "execute_result"
    }
   ],
   "source": [
    "# apenas para conferir\n",
    "base_completa[['SOLD_QUANTITY','SOLD_QUANTITY_NEW']].head(3)"
   ]
  },
  {
   "cell_type": "markdown",
   "id": "508fb4d4",
   "metadata": {},
   "source": [
    "Podemos notar que não existem valores NaN para coluna nova de quantidade vendida."
   ]
  },
  {
   "cell_type": "markdown",
   "id": "776de69f",
   "metadata": {},
   "source": [
    "#### Análise para variáveis categóricas:"
   ]
  },
  {
   "cell_type": "markdown",
   "id": "6a6c3fca",
   "metadata": {},
   "source": [
    "Seguiremos com a análise para variáveis do tipo categóricas. "
   ]
  },
  {
   "cell_type": "code",
   "execution_count": 19,
   "id": "d7b06c96",
   "metadata": {
    "scrolled": true
   },
   "outputs": [
    {
     "data": {
      "text/plain": [
       "OFFER_START_DATE         object\n",
       "OFFER_START_DTTM         object\n",
       "OFFER_FINISH_DTTM        object\n",
       "OFFER_TYPE               object\n",
       "ORIGIN                   object\n",
       "SHIPPING_PAYMENT_TYPE    object\n",
       "DOM_DOMAIN_AGG1          object\n",
       "VERTICAL                 object\n",
       "DOMAIN_ID                object\n",
       "dtype: object"
      ]
     },
     "execution_count": 19,
     "metadata": {},
     "output_type": "execute_result"
    }
   ],
   "source": [
    "base_completa.select_dtypes(include=['O']).dtypes"
   ]
  },
  {
   "cell_type": "markdown",
   "id": "5320cd28",
   "metadata": {},
   "source": [
    "Podemos notar que algumas colunas referentes a datas estão definidas como objeto, iremos tratar mais adiante."
   ]
  },
  {
   "cell_type": "code",
   "execution_count": 20,
   "id": "d3399f19",
   "metadata": {},
   "outputs": [
    {
     "data": {
      "text/html": [
       "<div>\n",
       "<style scoped>\n",
       "    .dataframe tbody tr th:only-of-type {\n",
       "        vertical-align: middle;\n",
       "    }\n",
       "\n",
       "    .dataframe tbody tr th {\n",
       "        vertical-align: top;\n",
       "    }\n",
       "\n",
       "    .dataframe thead th {\n",
       "        text-align: right;\n",
       "    }\n",
       "</style>\n",
       "<table border=\"1\" class=\"dataframe\">\n",
       "  <thead>\n",
       "    <tr style=\"text-align: right;\">\n",
       "      <th></th>\n",
       "      <th>OFFER_TYPE</th>\n",
       "      <th>ORIGIN</th>\n",
       "      <th>SHIPPING_PAYMENT_TYPE</th>\n",
       "      <th>DOM_DOMAIN_AGG1</th>\n",
       "      <th>VERTICAL</th>\n",
       "      <th>DOMAIN_ID</th>\n",
       "    </tr>\n",
       "  </thead>\n",
       "  <tbody>\n",
       "    <tr>\n",
       "      <th>0</th>\n",
       "      <td>lightning_deal</td>\n",
       "      <td>A</td>\n",
       "      <td>none</td>\n",
       "      <td>PETS FOOD</td>\n",
       "      <td>CPG</td>\n",
       "      <td>MLM-BIRD_FOODS</td>\n",
       "    </tr>\n",
       "    <tr>\n",
       "      <th>1</th>\n",
       "      <td>lightning_deal</td>\n",
       "      <td>NaN</td>\n",
       "      <td>free_shipping</td>\n",
       "      <td>PET PRODUCTS</td>\n",
       "      <td>OTHERS</td>\n",
       "      <td>MLM-ANIMAL_AND_PET_PRODUCTS</td>\n",
       "    </tr>\n",
       "    <tr>\n",
       "      <th>2</th>\n",
       "      <td>lightning_deal</td>\n",
       "      <td>NaN</td>\n",
       "      <td>none</td>\n",
       "      <td>COMPUTERS</td>\n",
       "      <td>CE</td>\n",
       "      <td>MLM-SPEAKERS</td>\n",
       "    </tr>\n",
       "    <tr>\n",
       "      <th>3</th>\n",
       "      <td>lightning_deal</td>\n",
       "      <td>NaN</td>\n",
       "      <td>none</td>\n",
       "      <td>COMPUTERS</td>\n",
       "      <td>CE</td>\n",
       "      <td>MLM-HEADPHONES</td>\n",
       "    </tr>\n",
       "    <tr>\n",
       "      <th>4</th>\n",
       "      <td>lightning_deal</td>\n",
       "      <td>NaN</td>\n",
       "      <td>none</td>\n",
       "      <td>COMPUTERS</td>\n",
       "      <td>CE</td>\n",
       "      <td>MLM-HEADPHONES</td>\n",
       "    </tr>\n",
       "  </tbody>\n",
       "</table>\n",
       "</div>"
      ],
      "text/plain": [
       "       OFFER_TYPE ORIGIN SHIPPING_PAYMENT_TYPE DOM_DOMAIN_AGG1 VERTICAL  \\\n",
       "0  lightning_deal      A                  none       PETS FOOD      CPG   \n",
       "1  lightning_deal    NaN         free_shipping    PET PRODUCTS   OTHERS   \n",
       "2  lightning_deal    NaN                  none       COMPUTERS       CE   \n",
       "3  lightning_deal    NaN                  none       COMPUTERS       CE   \n",
       "4  lightning_deal    NaN                  none       COMPUTERS       CE   \n",
       "\n",
       "                     DOMAIN_ID  \n",
       "0               MLM-BIRD_FOODS  \n",
       "1  MLM-ANIMAL_AND_PET_PRODUCTS  \n",
       "2                 MLM-SPEAKERS  \n",
       "3               MLM-HEADPHONES  \n",
       "4               MLM-HEADPHONES  "
      ]
     },
     "execution_count": 20,
     "metadata": {},
     "output_type": "execute_result"
    }
   ],
   "source": [
    "# mantendo apenas variáveis categoricas \n",
    "df_variaveis_categoricas = base_completa[['OFFER_TYPE', 'ORIGIN', 'SHIPPING_PAYMENT_TYPE', 'DOM_DOMAIN_AGG1', 'VERTICAL', 'DOMAIN_ID']]\n",
    "df_variaveis_categoricas.head()"
   ]
  },
  {
   "cell_type": "markdown",
   "id": "16bf4661",
   "metadata": {},
   "source": [
    "Vamos analisar quantos valores NaN existem em cada variável, pois caso tenham variáveis com valores ausentes expressivos (ex: 98% da base ausente), poderá ser uma dificuldade a depender da análise futura:"
   ]
  },
  {
   "cell_type": "code",
   "execution_count": 21,
   "id": "22d8c8d3",
   "metadata": {},
   "outputs": [
    {
     "name": "stdout",
     "output_type": "stream",
     "text": [
      "OFFER_TYPE : 0\n",
      "ORIGIN : 37430\n",
      "SHIPPING_PAYMENT_TYPE : 0\n",
      "DOM_DOMAIN_AGG1 : 0\n",
      "VERTICAL : 0\n",
      "DOMAIN_ID : 0\n"
     ]
    }
   ],
   "source": [
    "variaveis_categoricas = ['OFFER_TYPE', 'ORIGIN', 'SHIPPING_PAYMENT_TYPE', 'DOM_DOMAIN_AGG1', 'VERTICAL', 'DOMAIN_ID']\n",
    "\n",
    "for variavel in variaveis_categoricas:\n",
    "    qtd = df_variaveis_categoricas[variavel].isna().sum()\n",
    "    print(variavel,':',qtd)"
   ]
  },
  {
   "cell_type": "markdown",
   "id": "ddbe92ee",
   "metadata": {},
   "source": [
    "Pela contagem acima podemos notar que apenas ORIGIN possui valores NaN, totalizando 76% do seu preenchimento. "
   ]
  },
  {
   "cell_type": "markdown",
   "id": "61ef69b0",
   "metadata": {},
   "source": [
    "Agora podemos analisar a quantidade de grupos em cada variável, pois uma quantidade significativa de grupos pode dificultar uma possível modelagem. "
   ]
  },
  {
   "cell_type": "code",
   "execution_count": 22,
   "id": "ed593ece",
   "metadata": {},
   "outputs": [
    {
     "name": "stdout",
     "output_type": "stream",
     "text": [
      "OFFER_TYPE : 1\n",
      "ORIGIN : 1\n",
      "SHIPPING_PAYMENT_TYPE : 2\n",
      "DOM_DOMAIN_AGG1 : 36\n",
      "VERTICAL : 9\n",
      "DOMAIN_ID : 1266\n"
     ]
    }
   ],
   "source": [
    "variaveis_categoricas = ['OFFER_TYPE', 'ORIGIN', 'SHIPPING_PAYMENT_TYPE', 'DOM_DOMAIN_AGG1', 'VERTICAL', 'DOMAIN_ID']\n",
    "\n",
    "for variavel in variaveis_categoricas:\n",
    "    qtd = df_variaveis_categoricas[variavel].nunique()\n",
    "    print(variavel,':',qtd)"
   ]
  },
  {
   "cell_type": "markdown",
   "id": "3640fdf9",
   "metadata": {},
   "source": [
    "Conforme cálculo acima, podemos notar que a variável OFFER_TYPE é preenchida com o mesmo valor em todos os casos, ou seja, possivelmente não irá agregar informação a depender das análises futuras. Lembrando que, a variável ORIGIN não segue a mesma conclusão pois existem valores ausentes que podem ser tratados como outra categoria totalizando 2 na contagem acima. Já a variável DOMAIN_ID possivelmente não irá agregar muita informação a depender das análises também, pois contém uma quantidade muito grande de valores distintos."
   ]
  },
  {
   "cell_type": "markdown",
   "id": "4c4b286f",
   "metadata": {},
   "source": [
    "#### Análise para variáveis de tempo:"
   ]
  },
  {
   "cell_type": "code",
   "execution_count": 23,
   "id": "03ac0e3e",
   "metadata": {},
   "outputs": [
    {
     "name": "stdout",
     "output_type": "stream",
     "text": [
      "Início do histórico:  2021-06-01\n",
      "Fim do histórico:  2021-07-31\n"
     ]
    }
   ],
   "source": [
    "print('Início do histórico: ',base_completa.OFFER_START_DATE.min())\n",
    "print('Fim do histórico: ',base_completa.OFFER_START_DATE.max())"
   ]
  },
  {
   "cell_type": "code",
   "execution_count": 24,
   "id": "003206dd",
   "metadata": {},
   "outputs": [
    {
     "data": {
      "text/html": [
       "<div>\n",
       "<style scoped>\n",
       "    .dataframe tbody tr th:only-of-type {\n",
       "        vertical-align: middle;\n",
       "    }\n",
       "\n",
       "    .dataframe tbody tr th {\n",
       "        vertical-align: top;\n",
       "    }\n",
       "\n",
       "    .dataframe thead th {\n",
       "        text-align: right;\n",
       "    }\n",
       "</style>\n",
       "<table border=\"1\" class=\"dataframe\">\n",
       "  <thead>\n",
       "    <tr style=\"text-align: right;\">\n",
       "      <th></th>\n",
       "      <th>OFFER_START_DATE</th>\n",
       "      <th>QTD</th>\n",
       "    </tr>\n",
       "  </thead>\n",
       "  <tbody>\n",
       "    <tr>\n",
       "      <th>0</th>\n",
       "      <td>2021-07-30</td>\n",
       "      <td>1300</td>\n",
       "    </tr>\n",
       "    <tr>\n",
       "      <th>1</th>\n",
       "      <td>2021-07-29</td>\n",
       "      <td>1299</td>\n",
       "    </tr>\n",
       "    <tr>\n",
       "      <th>2</th>\n",
       "      <td>2021-07-08</td>\n",
       "      <td>1267</td>\n",
       "    </tr>\n",
       "  </tbody>\n",
       "</table>\n",
       "</div>"
      ],
      "text/plain": [
       "  OFFER_START_DATE   QTD\n",
       "0       2021-07-30  1300\n",
       "1       2021-07-29  1299\n",
       "2       2021-07-08  1267"
      ]
     },
     "execution_count": 24,
     "metadata": {},
     "output_type": "execute_result"
    }
   ],
   "source": [
    "# conforme análises acima, sabemos que o tipo da variável OFFER_START_DATE é object, vamos alterar para datetime\n",
    "base_completa['OFFER_START_DATE'] = pd.to_datetime(base_completa['OFFER_START_DATE'])\n",
    "\n",
    "# contar o número de ocorrências para cada data\n",
    "contagem_datas = base_completa['OFFER_START_DATE'].value_counts().reset_index()\n",
    "contagem_datas.columns = ['OFFER_START_DATE', 'QTD']\n",
    "\n",
    "# apenas para conferir \n",
    "contagem_datas.head(3)"
   ]
  },
  {
   "cell_type": "code",
   "execution_count": 25,
   "id": "54a6643d",
   "metadata": {
    "scrolled": false
   },
   "outputs": [
    {
     "data": {
      "image/png": "[encoded data removed]",
      "text/plain": [
       "<Figure size 864x360 with 1 Axes>"
      ]
     },
     "metadata": {
      "needs_background": "light"
     },
     "output_type": "display_data"
    }
   ],
   "source": [
    "plt.figure(figsize=(12,5))\n",
    "\n",
    "plt.scatter(\n",
    "    contagem_datas.OFFER_START_DATE\n",
    "    ,contagem_datas.QTD\n",
    "    ,linewidth=2.0\n",
    "    ,color = '#336699'\n",
    "    ,alpha = 0.7\n",
    ")\n",
    "\n",
    "plt.xticks(rotation=90)\n",
    "\n",
    "plt.title('Quantidade de ofertas ao longo do tempo')\n",
    "\n",
    "plt.show()"
   ]
  },
  {
   "cell_type": "markdown",
   "id": "2af8adb2",
   "metadata": {},
   "source": [
    "Podemos notar que existe uma tendência de alta na quantidade de ofertas ao longo do tempo, uma possível explicação para esse aumento no período de 2 meses pode ser o aumento de budge disponibilizado para ofertas com intuito de aumentar o engajamento dos clientes ou mesmo o aumento da companhia e consequentemente o aumento de ofertas dado o período de pandemia e aumento de vendas online. "
   ]
  },
  {
   "cell_type": "markdown",
   "id": "01a7522e",
   "metadata": {},
   "source": [
    "Fim"
   ]
  }
 ],
 "metadata": {
  "kernelspec": {
   "display_name": "Python 3 (ipykernel)",
   "language": "python",
   "name": "python3"
  },
  "language_info": {
   "codemirror_mode": {
    "name": "ipython",
    "version": 3
   },
   "file_extension": ".py",
   "mimetype": "text/x-python",
   "name": "python",
   "nbconvert_exporter": "python",
   "pygments_lexer": "ipython3",
   "version": "3.9.7"
  }
 },
 "nbformat": 4,
 "nbformat_minor": 5
}
